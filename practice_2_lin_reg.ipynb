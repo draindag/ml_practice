{
 "cells": [
  {
   "cell_type": "markdown",
   "id": "0c3f5db8",
   "metadata": {},
   "source": [
    "# Практика 2. Задача регрессии"
   ]
  },
  {
   "cell_type": "markdown",
   "id": "d7615005",
   "metadata": {},
   "source": [
    "Задача (одномерной) линейной регрессии ставится в следующем виде:\n",
    "\n",
    "$Y_1,Y_2,\\dots,Y_n$ - независимые случайные величины.\n",
    "\n",
    "$$Y_i \\sim N(a+bx_i,\\sigma^2), i=\\overline{1,n}$$\n",
    "\n",
    "$N(m, \\sigma^2)$ - нормальное распределение. Плотность нормального распределения: $f(t)=\\frac{1}{\\sigma\\sqrt{2\\pi}}e^{-\\frac{1}{2\\sigma^2}(t-m)^2}$.\n",
    "\n",
    "Имеются данные $D=\\{(x_i,y_i)\\}_{i=1}^{n}$, необходимо найти параметры $a$ и $b$, также хотелось бы оценить $\\sigma^2$, если это возможно.\n",
    "\n",
    "Чем отличается $y_i$ от $Y_i$? $(Y_1,\\dots,Y_n)$ - набор случайных величин, о распределении которых мы делаем предположение. $(y_1,\\dots,y_n)$ - выборка, порождённая случайными величинами. Именно по выборке мы пытаемся оценить свойства случайных величин. В более общем виде эта задача далее будет встречаться постоянно, поскольку является основной задачей машинного обучения. По имеющемуся распределению данных (по выборке) мы будем пытаться обучить модель, которая приближала бы это распределение и хорошо обобщалась на те данные, которых в выборке нет.\n",
    "\n",
    "Воспользуемся *методом максимального правдоподобия* для получения оценок $a$ и $b$:\n",
    "\n",
    "$$L=\\frac{1}{(\\sigma\\sqrt{2\\pi})^n}\\prod_{i=1}^ne^{-\\frac{1}{2\\sigma^2}(y_i-a-bx_i)^2} \\rightarrow \\max$$\n",
    "\n",
    "Внесём произведение в экспоненту:\n",
    "\n",
    "$$L=\\frac{1}{(\\sigma\\sqrt{2\\pi})^n}e^{-\\frac{1}{2\\sigma^2}\\sum_{i=1}^n(y_i-a-bx_i)^2} \\rightarrow \\max$$\n",
    "\n",
    "Извлечём из правдоподобия логарифм:\n",
    "\n",
    "$$\\ln L=-n\\ln(\\sigma)-\\frac{n}{2}\\ln(2\\pi)-\\frac{1}{2\\sigma^2}\\sum_{i=1}^{n}(y_i-a-bx_i)^2 \\rightarrow \\max$$\n",
    "\n",
    "Точка максимума функции и точка максимума логарифма функции совпадут. Для нахождения максимума посчитаем частные производные:\n",
    "\n",
    "$$\\frac{\\partial \\ln L}{\\partial a} = \\sum_{i=1}^n(y_i-a-bx_i) = 0\\Rightarrow a = \\frac{1}{n}\\sum_{i=1}^{n}(y_i-bx_i)$$\n",
    "\n",
    "$$\\frac{\\partial \\ln L}{\\partial b} = \\sum_{i=1}^{n}(y_i-a-bx_i)x_i = 0 \\Rightarrow b = \\frac{\\sum_{i=1}^n(y_i-a)x_i}{\\sum_{i=1}^nx_i^2}$$\n",
    "\n",
    "Далее необходимо решить СЛАУ. Подставим $a$ в формулу $b$:\n",
    "\n",
    "$$0=\\sum_{i=1}^{n}(y_i-a-bx_i)x_i = \\sum_{i=1}^{n}(y_i-\\frac{1}{n}\\sum_{i=1}^{n}(y_i-bx_i)-bx_i)x_i = \\sum_{i=1}^{n}(y_i-\\overline{y}-b(x_i-\\overline{x}))x_i$$\n",
    "\n",
    "$$\\sum_{i=1}^{n}(y_i-\\overline{y})x_i=\\sum_{i=1}^nb(x_i-\\overline{x})x_i$$\n",
    "\n",
    "$$b = \\frac{\\sum_{i=1}^{n}(y_i-\\overline{y})x_i}{\\sum_{i=1}^n(x_i-\\overline{x})x_i}$$\n",
    "\n",
    "Осталось подставить значение $b$ в формулу $a$. Опустим эту выкладку.\n",
    "\n",
    "Таким образом, мы построили <b>точный аналитический метод</b> нахождения параметров модели, называемый <b>методом наименьших квадратов</b>. Этот метод часто используется для решения задачи регрессии, но важно помнить что он был получен именно из предположения о нормальном распределении данных и основан на максимизации правдоподобия данных."
   ]
  },
  {
   "cell_type": "markdown",
   "id": "1171efc6",
   "metadata": {},
   "source": [
    "## Метод наименьших квадратов"
   ]
  },
  {
   "cell_type": "code",
   "execution_count": 1,
   "id": "9556c70e",
   "metadata": {},
   "outputs": [],
   "source": [
    "import numpy as np\n",
    "import matplotlib.pyplot as plt"
   ]
  },
  {
   "cell_type": "markdown",
   "id": "b725794f",
   "metadata": {},
   "source": [
    "Давайте опробуем полученные формулы."
   ]
  },
  {
   "cell_type": "code",
   "execution_count": 2,
   "id": "4e95fe61",
   "metadata": {},
   "outputs": [],
   "source": [
    "def generate_samples(function, n_samples, x_min=0, x_max=10, sigma=1):\n",
    "    \"\"\"Генерирует одномерные данные с заданной зависимостью\"\"\"\n",
    "    x = np.random.uniform(x_min, x_max, n_samples)\n",
    "    y = function(x) + np.random.normal(0, sigma, n_samples)\n",
    "    return x, y"
   ]
  },
  {
   "cell_type": "code",
   "execution_count": 3,
   "id": "c0390158",
   "metadata": {},
   "outputs": [],
   "source": [
    "x_min, x_max = 0, 10 #  отрезок, на котором генерируются x\n",
    "num_samples = 10    # количество точек данных\n",
    "# генерируем параметры модели\n",
    "a_true = np.random.normal(0, 3)\n",
    "b_true = np.random.normal(0, 2)\n",
    "# генерируем выборку\n",
    "x, y = generate_samples(lambda x: x*b_true + a_true, num_samples, x_min, x_max, sigma=5)"
   ]
  },
  {
   "cell_type": "code",
   "execution_count": 4,
   "id": "4deefc29",
   "metadata": {
    "editable": true,
    "slideshow": {
     "slide_type": ""
    },
    "tags": []
   },
   "outputs": [],
   "source": [
    "def show_lin_regr(x, y, x_min, x_max, true_function, function=None):\n",
    "    \"\"\"Отображает график линейной регрессии\"\"\"\n",
    "    plt.figure()\n",
    "    # отрисоваваем точки данных\n",
    "    plt.scatter(x, y)\n",
    "    # настоящая кривая\n",
    "    plt.plot([x_min, x_max], [true_function(x_min), true_function(x_max)], color='green', label=\"True\", lw=3)\n",
    "    # найденная кривая\n",
    "    if function:\n",
    "        plt.plot([x_min, x_max], [function(x_min), function(x_max)], color='red', label=\"Found\")\n",
    "    # Подписи на рисунке\n",
    "    plt.gca().legend()\n",
    "    plt.gca().set_xlim()"
   ]
  },
  {
   "cell_type": "markdown",
   "id": "ed1e2a54",
   "metadata": {},
   "source": [
    "Настоящая зависимость и сгенерированные данные:"
   ]
  },
  {
   "cell_type": "code",
   "execution_count": 5,
   "id": "12a1161e",
   "metadata": {},
   "outputs": [
    {
     "data": {
      "image/png": "[encoded data removed]",
      "text/plain": [
       "<Figure size 640x480 with 1 Axes>"
      ]
     },
     "metadata": {},
     "output_type": "display_data"
    }
   ],
   "source": [
    "show_lin_regr(x, y, x_min, x_max, lambda x: x*b_true + a_true)\n",
    "plt.show()"
   ]
  },
  {
   "cell_type": "markdown",
   "id": "2ff300ba",
   "metadata": {},
   "source": [
    "Реализуйте вычисление коэффициентов.\n",
    "\n",
    "$$b = \\frac{\\sum_{i=1}^{n}(y_i-\\overline{y})x_i}{\\sum_{i=1}^n(x_i-\\overline{x})x_i}$$\n",
    "\n",
    "$$a = \\frac{1}{n}\\sum_{i=1}^{n}(y_i-bx_i)$$"
   ]
  },
  {
   "cell_type": "code",
   "execution_count": 6,
   "id": "077afc52",
   "metadata": {},
   "outputs": [],
   "source": [
    "# TODO: Дополните код:\n",
    "b = 0\n",
    "a = 0"
   ]
  },
  {
   "cell_type": "code",
   "execution_count": 7,
   "id": "a4b2a8b9",
   "metadata": {},
   "outputs": [
    {
     "data": {
      "image/png": "[encoded data removed]",
      "text/plain": [
       "<Figure size 640x480 with 1 Axes>"
      ]
     },
     "metadata": {},
     "output_type": "display_data"
    }
   ],
   "source": [
    "show_lin_regr(x, y, x_min, x_max, lambda x: x*b_true + a_true, lambda x: x*b + a)"
   ]
  },
  {
   "cell_type": "markdown",
   "id": "3b257564",
   "metadata": {},
   "source": [
    "## Многомерная линейная регрессия"
   ]
  },
  {
   "cell_type": "markdown",
   "id": "56bec152",
   "metadata": {},
   "source": [
    "Пусть теперь $x_i \\in \\mathbb{R}^d$ - многомерный. Тогда параметр $b$ тоже должен быть многомерным вектором $b\\in\\mathbb{R}^d$, параметр $a$ всё так же скаляр.\n",
    "\n",
    "Замечание про размерности матриц:\n",
    "\n",
    "- $b$ имеет размер $(d,1)$, вектор-столбец\n",
    "- $X$ имеет размер $(n,d)$, матрица с $n$ строками и $d$ столбцами\n",
    "- $y$ имеет размер $(n,1)$, вектор-столбец\n",
    "\n",
    "Теперь данные описываются следующим законом: $Y_i\\sim N(a+\\langle x_i,b\\rangle, \\sigma^2)$, где $\\langle \\alpha, \\beta\\rangle$ - скалярное произведение.\n",
    "\n",
    "$\\langle x_i,b\\rangle$ по другому можно записать через матричное произведение как $b^Tx_i$.\n",
    "\n",
    "Под $x_i$ будем понимать i-ю строку матрицы $X$. Заметьте, что $x_i$ это хоть и строка, но это вектор-столбец, так всегда принято воспринимать векторы.\n",
    "\n",
    "В многомерном случае, с параметром $a$ немного сложнее обращаться, поэтому часто для упрощения считают, что каждый вектор $x_i = (x_{i1},x_{i2},\\dots,x_{id})$ не $d$-мерный, а $(d+1)$-мерный. Тогда вектор $x_i$ имеет вид $x_i=(1,x_{i1},\\dots,x_{id})$.\n",
    "\n",
    "Далее в рассуждениях, с учётом этого замечания, опустим параметр $a$. \n",
    "\n",
    "Запишем логарифм правдоподобия:\n",
    "\n",
    "$$\\ln L=-n\\ln(\\sigma)-\\frac{n}{2}\\ln(2\\pi)-\\sum_{i=1}^{n}\\frac{1}{2\\sigma^2}(y_i-b^Tx_i)^2 \\rightarrow \\max$$\n",
    "\n",
    "Далее вычислим частные производные:\n",
    "\n",
    "$$\\frac{\\partial \\ln L}{\\partial b_j}=\\sum_{i=1}^{n}(y_i-x_{ij}b_j)x_{ij}=0, \\forall j=\\overline{1,n}$$\n",
    "\n",
    "$$b_j\\sum_{i=1}^nx_{ji}x_{ij}=\\sum_{i=1}^ny_ix_{ij}$$\n",
    "\n",
    "Запишем в матричном виде:\n",
    "\n",
    "$$X^TXb=X^Ty\\Rightarrow b=(X^TX)^{-1}X^Ty$$\n",
    "\n",
    "<details>\n",
    "<summary><b>Откуда это взялось</b> (кликните)</summary>\n",
    "\n",
    "Уравнение $\\sum_{i=1}^{n}(y_i-b_jx_{ij})x_{ij}=0$ можно записать следубщим образом: $\\sum_{i=1}^ny_ix_{ij}=b_j\\sum_{i=1}^nx_{ij}x_{ij}$.\n",
    "\n",
    " что в свою очередь можно записать через скалярные произведения: $\\langle y,x^j\\rangle=b_j\\langle x^j,x^j\\rangle$, где $x^j$ - $j$-й столбец матрицы х, то есть значения $j$-й размеронсти для всех элементов выборки.\n",
    "\n",
    "Запишем эти уравнения друг под другом:\n",
    "$$\\begin{array}{c}\n",
    "\\sum_{i=1}^ny_ix_{i1}=b_1\\sum_{i=1}^nx_{i1}x_{i1}\\\\\n",
    "\\sum_{i=1}^ny_ix_{i2}=b_2\\sum_{i=1}^nx_{i2}x_{i2}\\\\\n",
    "\\vdots\\\\\n",
    "\\sum_{i=1}^ny_ix_{id}=b_d\\sum_{i=1}^nx_{id}x_{id}\n",
    "\\end{array}$$\n",
    "\n",
    "Что можно записать в матричном виде:\n",
    "\n",
    "$$X^Ty=X^TXb$$\n",
    "\n",
    "И отсюда:\n",
    "$$X^TXb=X^Ty \\Rightarrow b=(X^TX)^{-1}X^Ty$$\n",
    "</details>\n",
    "\n",
    "<b>Замечаение</b>\n",
    "\n",
    "Решение существует только в том случае, если матрица $X^TX$ обратима. Матрица обратима, если её определеитель не равен 0. То есть ранг матрицы совпадает с размерностью данных $rg(X^TX)=d$. В свою очередь $rg(AB)\\leq\\min\\{rg(A),rg(B)\\}$, то есть $rg(X^TX)\\leq rg(X)$. то есть для получения однозначного решения необходимо не менее d линейно незаваисимых точек."
   ]
  },
  {
   "cell_type": "code",
   "execution_count": 8,
   "id": "5cd15262",
   "metadata": {},
   "outputs": [],
   "source": [
    "def generate_samples_dim(function, n_samples, x_min=0, x_max=10, n_dim=1, sigma=1):\n",
    "    \"\"\"Генерирует многомерные данные с зыдынной зависимостью\"\"\"\n",
    "    x = np.hstack([np.ones((n_samples,1)), # столбец из единиц\n",
    "            np.random.uniform(x_min, x_max, (n_samples, n_dim))]) # случайные числа\n",
    "    y = function(x) + np.random.normal(0, sigma, (n_samples,1))\n",
    "    return x, y"
   ]
  },
  {
   "cell_type": "code",
   "execution_count": 9,
   "id": "a9118720",
   "metadata": {},
   "outputs": [],
   "source": [
    "n_dim = 10\n",
    "# генерируем параметры модели\n",
    "b_true = np.random.normal(0, 5, (n_dim + 1, 1)) # b - вектор-столбец\n",
    "# генерируем выборку\n",
    "num_samples = 100  # Размер выборки\n",
    "sigma = 10        # Дисперсия шума\n",
    "x_min, x_max = 0, 10\n",
    "x, y = generate_samples_dim(function=lambda x: x @ b_true, n_samples=num_samples, x_min=x_min, x_max=x_max, n_dim=n_dim, sigma=sigma)"
   ]
  },
  {
   "cell_type": "markdown",
   "id": "96c059da",
   "metadata": {},
   "source": [
    "Визуализировать многомерные точки довольно тяжело, поэтому просто посмотрим на абсолютные значения."
   ]
  },
  {
   "cell_type": "code",
   "execution_count": 10,
   "id": "7d8b1b4b",
   "metadata": {},
   "outputs": [
    {
     "name": "stdout",
     "output_type": "stream",
     "text": [
      "Истинные коэффициенты:    [-3.10558041  5.26479425  7.7337947   3.31182751  0.08433957 -1.81874479\n",
      "  1.92464864  1.26462697  0.52986509 -4.46920191  4.03140445]\n"
     ]
    },
    {
     "ename": "AttributeError",
     "evalue": "'int' object has no attribute 'ravel'",
     "output_type": "error",
     "traceback": [
      "\u001b[1;31m---------------------------------------------------------------------------\u001b[0m",
      "\u001b[1;31mAttributeError\u001b[0m                            Traceback (most recent call last)",
      "Cell \u001b[1;32mIn[10], line 5\u001b[0m\n\u001b[0;32m      2\u001b[0m b \u001b[38;5;241m=\u001b[39m \u001b[38;5;241m0\u001b[39m\n\u001b[0;32m      4\u001b[0m \u001b[38;5;28mprint\u001b[39m(\u001b[38;5;124mf\u001b[39m\u001b[38;5;124m\"\u001b[39m\u001b[38;5;124mИстинные коэффициенты:    \u001b[39m\u001b[38;5;132;01m{\u001b[39;00mb_true\u001b[38;5;241m.\u001b[39mravel()\u001b[38;5;132;01m}\u001b[39;00m\u001b[38;5;124m\"\u001b[39m)\n\u001b[1;32m----> 5\u001b[0m \u001b[38;5;28mprint\u001b[39m(\u001b[38;5;124mf\u001b[39m\u001b[38;5;124m\"\u001b[39m\u001b[38;5;124mНайденные коэффициенты:   \u001b[39m\u001b[38;5;132;01m{\u001b[39;00mb\u001b[38;5;241m.\u001b[39mravel()\u001b[38;5;132;01m}\u001b[39;00m\u001b[38;5;124m\"\u001b[39m)\n\u001b[0;32m      6\u001b[0m \u001b[38;5;28mprint\u001b[39m(\u001b[38;5;124mf\u001b[39m\u001b[38;5;124m\"\u001b[39m\u001b[38;5;124mОтклонение коэффициентов: \u001b[39m\u001b[38;5;132;01m{\u001b[39;00mnp\u001b[38;5;241m.\u001b[39msquare(b\u001b[38;5;241m-\u001b[39mb_true)\u001b[38;5;241m.\u001b[39msum()\u001b[38;5;132;01m}\u001b[39;00m\u001b[38;5;124m\"\u001b[39m)\n",
      "\u001b[1;31mAttributeError\u001b[0m: 'int' object has no attribute 'ravel'"
     ]
    }
   ],
   "source": [
    "# TODO: Дополните код:\n",
    "b = 0\n",
    "\n",
    "print(f\"Истинные коэффициенты:    {b_true.ravel()}\")\n",
    "print(f\"Найденные коэффициенты:   {b.ravel()}\")\n",
    "print(f\"Отклонение коэффициентов: {np.square(b-b_true).sum()}\")"
   ]
  },
  {
   "cell_type": "markdown",
   "id": "f34395c7",
   "metadata": {},
   "source": [
    "## Полиномиальная регрессия"
   ]
  },
  {
   "cell_type": "markdown",
   "id": "ff78ad67",
   "metadata": {},
   "source": [
    "Предположение о том, что исследуемая зависимость в данных линейная, является довольно сильным. Часто зависимость может иметь более сложный вид. Необходимо найти некоторое преобразование данных, после которого можно было бы просто применить линейную регрессию. \n",
    "\n",
    "Первым способом получения представления данных, который мы рассмотрим будет полиномиальная регрессия.\n",
    "\n",
    "Пусть данные можно описать полиномом степени $d$. Данные имеют вид $D=\\{(x_i,y_i)\\}, x_i,y_i\\in\\mathbb{R}$. Тогда одномерный вектор $x_i$ можно преобразовать в $(d+1)$-мерный вектор $(1,x_i,x_i^2,\\dots,x_i^d)$ и применить к этому вектору многомерную регрессию. Получим модель, описывающую данные следующим образом: $$y_i=\\langle (b_1,b_2,\\dots,b_{d+1}),(1,x_i,\\dots,x_d)\\rangle = b_1 + b_2x_i + \\dots + b_{d+1}x_i^d.$$\n",
    "\n",
    "Как мы и хотели, теперь $y_i$ описывается полиномиальной зависимостью от $x_i$. Далее необходимо лишь применить многомерную регрессию.\n",
    "\n",
    "<b>Замечание</b>\n",
    "\n",
    "Не обязательно использовать полином для приближения целевой функции. К примеру, если вы можете некоторым образом угадать, что зависимость описывается формулой $y=ax+b\\log(x)+c\\sin(x)$, то необходимо рассмотреть многомерную регрессию с признаками $(x,\\log(x),sin(x))$. Полином лишь является удобным способом, не требующим особых предположений о данных.\n",
    "\n",
    "Заметьте, что зависимость, включающую сложную функцию мы уже так описать не сможем, к примеру функцию с неизвестным периодом у синуса $y=ax+c\\sin(dx)$ мы уже не сможем разложить на сумму её составляющих, в таком случае мы можем только пытаться получить некоторое приближение."
   ]
  },
  {
   "cell_type": "code",
   "execution_count": 11,
   "id": "02e59ddc",
   "metadata": {},
   "outputs": [],
   "source": [
    "# Реальная зависимость в данных\n",
    "relation = lambda x: 2 + x + 2 * np.sin(x) # использование numpy-функций позволяет использовать операции с массивами\n",
    "# генерируем выборку\n",
    "num_samples = 20    # Размер выборки\n",
    "sigma = 1          # Дисперсия шума\n",
    "x_min, x_max = 0, 10\n",
    "x, y = generate_samples(relation, num_samples, x_min, x_max, sigma)"
   ]
  },
  {
   "cell_type": "code",
   "execution_count": 12,
   "id": "1dbd0f27",
   "metadata": {},
   "outputs": [],
   "source": [
    "def draw_polynimial(b=None):\n",
    "    \"\"\"Метод для отрисовки полиномиальной регрессии\"\"\"\n",
    "    plt.figure()\n",
    "    plt.scatter(x,y)\n",
    "    t = np.linspace(x_min-1, x_max+1, 100)\n",
    "    plt.plot(t, relation(t), label=\"True\")\n",
    "    if b is not None:\n",
    "        tt = np.vstack([np.power(t,i) for i in range(b.shape[0])]).T\n",
    "        plt.plot(t, tt @ b.reshape(-1,1))\n",
    "    plt.gca().set_ylim(y.min()-1,y.max()+1)\n",
    "    "
   ]
  },
  {
   "cell_type": "code",
   "execution_count": 13,
   "id": "1890e713",
   "metadata": {},
   "outputs": [
    {
     "data": {
      "image/png": "[encoded data removed]",
      "text/plain": [
       "<Figure size 640x480 with 1 Axes>"
      ]
     },
     "metadata": {},
     "output_type": "display_data"
    }
   ],
   "source": [
    "draw_polynimial()"
   ]
  },
  {
   "cell_type": "code",
   "execution_count": 14,
   "id": "12f4af26",
   "metadata": {},
   "outputs": [
    {
     "name": "stdout",
     "output_type": "stream",
     "text": [
      "Коэффициенты: [-1.92473582e+00  1.98056715e+01 -2.34994523e+01  1.60206581e+01\n",
      " -6.64589538e+00  1.68695794e+00 -2.60717842e-01  2.38696169e-02\n",
      " -1.18831422e-03  2.47610049e-05]\n"
     ]
    },
    {
     "data": {
      "image/png": "[encoded data removed]",
      "text/plain": [
       "<Figure size 640x480 with 1 Axes>"
      ]
     },
     "metadata": {},
     "output_type": "display_data"
    }
   ],
   "source": [
    "d = 9 # степень полинома\n",
    "# TODO: Дополните код:\n",
    "# Создайте вектор X формы (num_samples, d+1)\n",
    "X = np.vstack([np.power(x, i) for i in range(d+1)]).T\n",
    "# Вставьте формулу, которую написали выше\n",
    "b = np.linalg.inv(X.T @ X) @ X.T @ y\n",
    "draw_polynimial(b)\n",
    "print(f\"Коэффициенты: {b}\")"
   ]
  },
  {
   "cell_type": "markdown",
   "id": "99d03d1e",
   "metadata": {},
   "source": [
    "Обратите внимание, что предсказания нашей модели вне границ отрезка, где есть данные, резко уходят в бесконечность. Для интерполяции данная модель подходит хорошо, а вот для экстраполяции её применять никак нельзя. \n",
    "\n",
    "На этом примере уже видна одна из проблем Машинного обучения: имеющиеся данные хорошо может описать целое множество совершенно разных моделей (можем менять степень полинома, добавлять разные другие функции), но на новые данные эти модели могут обобщаться очень совсем по-разному. \n",
    "\n",
    "Если бы мы угадали, что данные описываются зависимостью $ax+b\\sin(x)$ и обучили коэффициенты $a$ и $b$, то такая модель намного более успешно описывала бы данные вне границ отрезка."
   ]
  },
  {
   "cell_type": "markdown",
   "id": "f15f654c",
   "metadata": {},
   "source": [
    "## Регрессия \"из коробки\"\n",
    "\n",
    "Линейная регрессия очень часто применяется в разных задачах, поэтому каждый раз реализовывать её самим не придётся, есть уже готовые реализации. Поговорим о них. \n",
    "\n",
    "`sci-kit learn` это библиотека, в которой популярные модели машинного обучения, библиотека также предоставляет средства для подготовки данных."
   ]
  },
  {
   "cell_type": "code",
   "execution_count": 15,
   "id": "27662d8a",
   "metadata": {},
   "outputs": [],
   "source": [
    "from sklearn.base import BaseEstimator, TransformerMixin\n",
    "from sklearn.pipeline import make_pipeline\n",
    "from sklearn.linear_model import LinearRegression, Lasso, Ridge\n",
    "from sklearn.metrics import mean_squared_error"
   ]
  },
  {
   "cell_type": "markdown",
   "id": "e838b3a8",
   "metadata": {},
   "source": [
    "Но перед тем, как попробовать готовые методы регрессии, обучимся использовать <b>пайплайны</b>. С помощью пайплайнов можно настраивать последовательность действий, производимых над данными. \n",
    "\n",
    "Пайплайны позволяют автоматизировать все шаги обработки данны:\n",
    "- предобработка пропусков \n",
    "- обработка специфичных типов данных\n",
    "- стандартизация данных\n",
    "- выделение признаков\n",
    "- обучение моделей предсказания\n",
    "- и др."
   ]
  },
  {
   "cell_type": "markdown",
   "id": "a2479e30",
   "metadata": {},
   "source": [
    "В библиотеке [ski-kit-learn](https://scikit-learn.org/stable/index.html) есть удобные инструменты для настройки пайплайнов, а также есть готовые реализации моделей машинного обучения.\n",
    "\n",
    "Для создания своего собственного генератора признаков нам будет необходимо реализовать интерфейс, описанный в библиотеке.\n",
    "\n",
    "Нам потребуется реализовать интерфейс [TransformerMixin](https://scikit-learn.org/stable/modules/generated/sklearn.base.TransformerMixin.html#sklearn.base.TransformerMixin). Он является базовым классом для всех преобразований, доступных в sci-kit-learn.\n",
    "\n",
    "Необходимо реализовать 3 метода: конструктор, метод fit и метод transform. \n",
    "\n",
    "Метод fit должен производить \"обучение\" преобразования. Метод fit в результате должен вернуть ссылку на объект, то есть заканчиваться метод должен командой `return self`. Необходимо это для построения цепочек вроде `estimator.fit(X_train).transform(X_test)`.\n",
    "\n",
    "Метод transform должен произвести над данными необходимое преобразование. Возвращать он должен преобразованные данные.\n",
    "\n",
    "Для данных должно соблюдаться общее правило. Данные всегда должны иметь 2 размерности: (n_samples, n_features), имеющие следующий смысл:\n",
    "\n",
    "- n_samples - количество точек данных,\n",
    "- n_features - размерность каждой точки данных.\n",
    "\n",
    "Такое соглашение соблюдается во всех классах библиотеки sci-kit learn."
   ]
  },
  {
   "cell_type": "markdown",
   "id": "c606fb96",
   "metadata": {},
   "source": [
    "### Полиномиальные признаки"
   ]
  },
  {
   "cell_type": "markdown",
   "id": "79bbde32",
   "metadata": {},
   "source": [
    "Опишем преобразование для извлечения полиномиальных признаков. \n",
    "\n",
    "Необходимо произвести следующее преобразование:\n",
    "\n",
    "$$\\begin{pmatrix}\n",
    "x_1\\\\\n",
    "x_2\\\\\n",
    "\\vdots\\\\\n",
    "x_n\n",
    "\\end{pmatrix} \\Rightarrow \\begin{pmatrix}\n",
    "x_1 & x_1^2 & \\dots & x_1^d \\\\\n",
    "x_2 & x_2^2 & \\dots & x_2^d\\\\\n",
    "\\vdots & \\vdots & \\ddots & \\vdots \\\\\n",
    "x_n & x_n^2 & \\dots & x_n^d\n",
    "\\end{pmatrix}$$\n",
    "\n",
    "Обратите внимание, что на входе преобразования будет матрица размера $(n,1)$, а на выходе $(n,d)$.\n",
    "\n",
    "Важно отметить, что из формулы линейной регрессии $y=Xw+b$ коэффициент $b$ мы исключали лишь для упрощения. В реализациях линейной регрессии в библиотеках наличие коэффициента $b$ настраиваемо. В sklearn за это отвечает параметр `fit_intercept`. Если значение установлено true, то коэффициент b будет обучаться, а иначе он будет иметь фиксированное значение $0$."
   ]
  },
  {
   "cell_type": "code",
   "execution_count": 16,
   "id": "d0b695d5",
   "metadata": {},
   "outputs": [],
   "source": [
    "class PolynomialFeatures(TransformerMixin, BaseEstimator):\n",
    "    \"\"\" Класс, формирующий полиномиальные признаки. \"\"\"\n",
    "    def __init__(self, *, degree:int = 1, bias = False):\n",
    "        self.degree = degree # степень полинома\n",
    "        self.bias = bias # включать 0-ю степень?\n",
    "        \n",
    "    def fit(self, X, y=None):\n",
    "        \"\"\" Преобразование не зависит от данных. \"\"\"\n",
    "        return self\n",
    "    \n",
    "    def transform(self, X):\n",
    "        \"\"\" Сформируйте полиномиальные признаки x_i -> (x_i, x_i^2, ... x_i^degree). \"\"\"\n",
    "        # TODO: Дополните код:\n",
    "        X = np.vstack([np.power(x, i) for i in range(d+1)]).T\n",
    "        # Вставьте формулу, которую написали выше\n",
    "        b = np.linalg.inv(X.T @ X) @ X.T @ y\n",
    "        return 0 "
   ]
  },
  {
   "cell_type": "markdown",
   "id": "2dfe63ba",
   "metadata": {},
   "source": [
    "Стоит отметить, что мы реализуем \"глупый\" вариант полиномиальных признаков, поскольку работать такой метод будет только с изначально одномерными данными. \n",
    "\n",
    "Взглянем на пример второй размерности, построим полиномиальные признаки 2 степени:\n",
    "\n",
    "$$\\begin{pmatrix}x_1\\\\x_2\\end{pmatrix} \\Rightarrow \\begin{pmatrix}1\\\\x_1\\\\x_2\\\\x_1x_2\\\\x_1^2\\\\x_2^2\\end{pmatrix}$$\n",
    "\n",
    "И тут вскрывается проблема. Для одномерного вектора размерность $1$ переходила в размерность $(d+1)$, a размерность $n$ перейдёт в размерность $C_{n+d}^d$. Важно отметить, что в реальной задаче, где требуется описать сложную зависимость и имеется много признаков, количество полиномиальных признаков будет огромно. Если взять 10 признаков и полином 10 степени, то результатом будут $184756$-мерные векторы.\n",
    "\n",
    "Одно из решений задачи поиска представления данных это <b>ядерные методы</b>, которые позволяют выделять полиномиальные признаки (и не только их, это зависит от вида ядра) неявно, то есть не вычисляя их напрямую. Представителем ядерных методов является <b>метод опорных векторов</b>, который мы разберём в рамках нашего курса позже.\n",
    "\n",
    "Другим методом являются нейронные сети, которые строят сложную функцию с помощью композиции простых функций. Важно отметить, что в самом конце нейронных сетей, занимающихся регрессией, всегда стоит знакомая нам линейная регрессия.\n",
    "\n",
    "Есть и другие методы поиска представления данных, некоторые из которых мы разберём."
   ]
  },
  {
   "cell_type": "code",
   "execution_count": 17,
   "id": "b7993c60",
   "metadata": {},
   "outputs": [
    {
     "name": "stdout",
     "output_type": "stream",
     "text": [
      "0\n"
     ]
    },
    {
     "ename": "AttributeError",
     "evalue": "'int' object has no attribute 'shape'",
     "output_type": "error",
     "traceback": [
      "\u001b[1;31m---------------------------------------------------------------------------\u001b[0m",
      "\u001b[1;31mAttributeError\u001b[0m                            Traceback (most recent call last)",
      "Cell \u001b[1;32mIn[17], line 7\u001b[0m\n\u001b[0;32m      5\u001b[0m \u001b[38;5;28mprint\u001b[39m(X)\n\u001b[0;32m      6\u001b[0m \u001b[38;5;66;03m# В результате должны быть матрица размером (4, 5)\u001b[39;00m\n\u001b[1;32m----> 7\u001b[0m \u001b[38;5;28mprint\u001b[39m(\u001b[43mX\u001b[49m\u001b[38;5;241;43m.\u001b[39;49m\u001b[43mshape\u001b[49m)\n",
      "\u001b[1;31mAttributeError\u001b[0m: 'int' object has no attribute 'shape'"
     ]
    }
   ],
   "source": [
    "# Протестируем преобразование\n",
    "transformer = PolynomialFeatures(degree=5, bias=False)\n",
    "X = np.array([[0.5], [1], [2], [3]])\n",
    "X = transformer.fit_transform(X)\n",
    "print(X)\n",
    "# В результате должны быть матрица размером (4, 5)\n",
    "print(X.shape)"
   ]
  },
  {
   "cell_type": "markdown",
   "id": "5beb5907",
   "metadata": {},
   "source": [
    "Построим пайплайн для линейной регрессии с полиномиальными признаками."
   ]
  },
  {
   "cell_type": "code",
   "execution_count": 18,
   "id": "6dfd2641",
   "metadata": {},
   "outputs": [],
   "source": [
    "pipeline = make_pipeline(\n",
    "    PolynomialFeatures(degree = 9, bias=False),\n",
    "    LinearRegression(fit_intercept=True)\n",
    ")"
   ]
  },
  {
   "cell_type": "code",
   "execution_count": 19,
   "id": "53cfdb65",
   "metadata": {},
   "outputs": [],
   "source": [
    "def create_polynomial_pipeline(degree, model):\n",
    "    \"\"\"degree - Степень полинома \\\\\n",
    "        model - Модель регрессии\"\"\"\n",
    "    return make_pipeline(\n",
    "            PolynomialFeatures(degree = degree, bias=False),\n",
    "            model\n",
    "        )"
   ]
  },
  {
   "cell_type": "markdown",
   "id": "fdefeea1",
   "metadata": {},
   "source": [
    "Давайте опробуем нашу модель.\n",
    "\n",
    "Сначала создадим данные:"
   ]
  },
  {
   "cell_type": "code",
   "execution_count": 20,
   "id": "5885e0d4",
   "metadata": {},
   "outputs": [],
   "source": [
    "# Устанавливаем семя для повторения эксперимента\n",
    "np.random.seed(46)\n",
    "num_samples = 20\n",
    "x_min, x_max = 0, 10\n",
    "x = np.random.uniform(x_min, x_max, num_samples)\n",
    "function = lambda x: x + np.cos(x)\n",
    "y = function(x) + np.random.normal(0, 1, num_samples)"
   ]
  },
  {
   "cell_type": "markdown",
   "id": "014fbd9e",
   "metadata": {},
   "source": [
    "Регрессия с полиномом 4 степени:"
   ]
  },
  {
   "cell_type": "code",
   "execution_count": 21,
   "id": "84675213",
   "metadata": {},
   "outputs": [
    {
     "ename": "ValueError",
     "evalue": "Expected 2D array, got scalar array instead:\narray=0.\nReshape your data either using array.reshape(-1, 1) if your data has a single feature or array.reshape(1, -1) if it contains a single sample.",
     "output_type": "error",
     "traceback": [
      "\u001b[1;31m---------------------------------------------------------------------------\u001b[0m",
      "\u001b[1;31mValueError\u001b[0m                                Traceback (most recent call last)",
      "Cell \u001b[1;32mIn[21], line 4\u001b[0m\n\u001b[0;32m      2\u001b[0m pipeline_4 \u001b[38;5;241m=\u001b[39m create_polynomial_pipeline(\u001b[38;5;241m4\u001b[39m, LinearRegression(fit_intercept\u001b[38;5;241m=\u001b[39m\u001b[38;5;28;01mTrue\u001b[39;00m))\n\u001b[0;32m      3\u001b[0m \u001b[38;5;66;03m# обучение модели\u001b[39;00m\n\u001b[1;32m----> 4\u001b[0m \u001b[43mpipeline_4\u001b[49m\u001b[38;5;241;43m.\u001b[39;49m\u001b[43mfit\u001b[49m\u001b[43m(\u001b[49m\u001b[43mx\u001b[49m\u001b[43m[\u001b[49m\u001b[43m:\u001b[49m\u001b[43m,\u001b[49m\u001b[38;5;28;43;01mNone\u001b[39;49;00m\u001b[43m]\u001b[49m\u001b[43m,\u001b[49m\u001b[43m \u001b[49m\u001b[43my\u001b[49m\u001b[43m[\u001b[49m\u001b[43m:\u001b[49m\u001b[43m,\u001b[49m\u001b[38;5;28;43;01mNone\u001b[39;49;00m\u001b[43m]\u001b[49m\u001b[43m)\u001b[49m \u001b[38;5;66;03m# заметьте как это теперь просто! не надо ни признаки формировать, ни обучать регрессию\u001b[39;00m\n\u001b[0;32m      6\u001b[0m \u001b[38;5;66;03m# отображение\u001b[39;00m\n\u001b[0;32m      7\u001b[0m x_all \u001b[38;5;241m=\u001b[39m np\u001b[38;5;241m.\u001b[39mlinspace(x_min, x_max, \u001b[38;5;241m101\u001b[39m)\n",
      "File \u001b[1;32m~\\AppData\\Local\\Programs\\Python\\Python310\\lib\\site-packages\\sklearn\\base.py:1474\u001b[0m, in \u001b[0;36m_fit_context.<locals>.decorator.<locals>.wrapper\u001b[1;34m(estimator, *args, **kwargs)\u001b[0m\n\u001b[0;32m   1467\u001b[0m     estimator\u001b[38;5;241m.\u001b[39m_validate_params()\n\u001b[0;32m   1469\u001b[0m \u001b[38;5;28;01mwith\u001b[39;00m config_context(\n\u001b[0;32m   1470\u001b[0m     skip_parameter_validation\u001b[38;5;241m=\u001b[39m(\n\u001b[0;32m   1471\u001b[0m         prefer_skip_nested_validation \u001b[38;5;129;01mor\u001b[39;00m global_skip_validation\n\u001b[0;32m   1472\u001b[0m     )\n\u001b[0;32m   1473\u001b[0m ):\n\u001b[1;32m-> 1474\u001b[0m     \u001b[38;5;28;01mreturn\u001b[39;00m fit_method(estimator, \u001b[38;5;241m*\u001b[39margs, \u001b[38;5;241m*\u001b[39m\u001b[38;5;241m*\u001b[39mkwargs)\n",
      "File \u001b[1;32m~\\AppData\\Local\\Programs\\Python\\Python310\\lib\\site-packages\\sklearn\\pipeline.py:475\u001b[0m, in \u001b[0;36mPipeline.fit\u001b[1;34m(self, X, y, **params)\u001b[0m\n\u001b[0;32m    473\u001b[0m     \u001b[38;5;28;01mif\u001b[39;00m \u001b[38;5;28mself\u001b[39m\u001b[38;5;241m.\u001b[39m_final_estimator \u001b[38;5;241m!=\u001b[39m \u001b[38;5;124m\"\u001b[39m\u001b[38;5;124mpassthrough\u001b[39m\u001b[38;5;124m\"\u001b[39m:\n\u001b[0;32m    474\u001b[0m         last_step_params \u001b[38;5;241m=\u001b[39m routed_params[\u001b[38;5;28mself\u001b[39m\u001b[38;5;241m.\u001b[39msteps[\u001b[38;5;241m-\u001b[39m\u001b[38;5;241m1\u001b[39m][\u001b[38;5;241m0\u001b[39m]]\n\u001b[1;32m--> 475\u001b[0m         \u001b[38;5;28mself\u001b[39m\u001b[38;5;241m.\u001b[39m_final_estimator\u001b[38;5;241m.\u001b[39mfit(Xt, y, \u001b[38;5;241m*\u001b[39m\u001b[38;5;241m*\u001b[39mlast_step_params[\u001b[38;5;124m\"\u001b[39m\u001b[38;5;124mfit\u001b[39m\u001b[38;5;124m\"\u001b[39m])\n\u001b[0;32m    477\u001b[0m \u001b[38;5;28;01mreturn\u001b[39;00m \u001b[38;5;28mself\u001b[39m\n",
      "File \u001b[1;32m~\\AppData\\Local\\Programs\\Python\\Python310\\lib\\site-packages\\sklearn\\base.py:1474\u001b[0m, in \u001b[0;36m_fit_context.<locals>.decorator.<locals>.wrapper\u001b[1;34m(estimator, *args, **kwargs)\u001b[0m\n\u001b[0;32m   1467\u001b[0m     estimator\u001b[38;5;241m.\u001b[39m_validate_params()\n\u001b[0;32m   1469\u001b[0m \u001b[38;5;28;01mwith\u001b[39;00m config_context(\n\u001b[0;32m   1470\u001b[0m     skip_parameter_validation\u001b[38;5;241m=\u001b[39m(\n\u001b[0;32m   1471\u001b[0m         prefer_skip_nested_validation \u001b[38;5;129;01mor\u001b[39;00m global_skip_validation\n\u001b[0;32m   1472\u001b[0m     )\n\u001b[0;32m   1473\u001b[0m ):\n\u001b[1;32m-> 1474\u001b[0m     \u001b[38;5;28;01mreturn\u001b[39;00m fit_method(estimator, \u001b[38;5;241m*\u001b[39margs, \u001b[38;5;241m*\u001b[39m\u001b[38;5;241m*\u001b[39mkwargs)\n",
      "File \u001b[1;32m~\\AppData\\Local\\Programs\\Python\\Python310\\lib\\site-packages\\sklearn\\linear_model\\_base.py:578\u001b[0m, in \u001b[0;36mLinearRegression.fit\u001b[1;34m(self, X, y, sample_weight)\u001b[0m\n\u001b[0;32m    574\u001b[0m n_jobs_ \u001b[38;5;241m=\u001b[39m \u001b[38;5;28mself\u001b[39m\u001b[38;5;241m.\u001b[39mn_jobs\n\u001b[0;32m    576\u001b[0m accept_sparse \u001b[38;5;241m=\u001b[39m \u001b[38;5;28;01mFalse\u001b[39;00m \u001b[38;5;28;01mif\u001b[39;00m \u001b[38;5;28mself\u001b[39m\u001b[38;5;241m.\u001b[39mpositive \u001b[38;5;28;01melse\u001b[39;00m [\u001b[38;5;124m\"\u001b[39m\u001b[38;5;124mcsr\u001b[39m\u001b[38;5;124m\"\u001b[39m, \u001b[38;5;124m\"\u001b[39m\u001b[38;5;124mcsc\u001b[39m\u001b[38;5;124m\"\u001b[39m, \u001b[38;5;124m\"\u001b[39m\u001b[38;5;124mcoo\u001b[39m\u001b[38;5;124m\"\u001b[39m]\n\u001b[1;32m--> 578\u001b[0m X, y \u001b[38;5;241m=\u001b[39m \u001b[38;5;28;43mself\u001b[39;49m\u001b[38;5;241;43m.\u001b[39;49m\u001b[43m_validate_data\u001b[49m\u001b[43m(\u001b[49m\n\u001b[0;32m    579\u001b[0m \u001b[43m    \u001b[49m\u001b[43mX\u001b[49m\u001b[43m,\u001b[49m\u001b[43m \u001b[49m\u001b[43my\u001b[49m\u001b[43m,\u001b[49m\u001b[43m \u001b[49m\u001b[43maccept_sparse\u001b[49m\u001b[38;5;241;43m=\u001b[39;49m\u001b[43maccept_sparse\u001b[49m\u001b[43m,\u001b[49m\u001b[43m \u001b[49m\u001b[43my_numeric\u001b[49m\u001b[38;5;241;43m=\u001b[39;49m\u001b[38;5;28;43;01mTrue\u001b[39;49;00m\u001b[43m,\u001b[49m\u001b[43m \u001b[49m\u001b[43mmulti_output\u001b[49m\u001b[38;5;241;43m=\u001b[39;49m\u001b[38;5;28;43;01mTrue\u001b[39;49;00m\n\u001b[0;32m    580\u001b[0m \u001b[43m\u001b[49m\u001b[43m)\u001b[49m\n\u001b[0;32m    582\u001b[0m has_sw \u001b[38;5;241m=\u001b[39m sample_weight \u001b[38;5;129;01mis\u001b[39;00m \u001b[38;5;129;01mnot\u001b[39;00m \u001b[38;5;28;01mNone\u001b[39;00m\n\u001b[0;32m    583\u001b[0m \u001b[38;5;28;01mif\u001b[39;00m has_sw:\n",
      "File \u001b[1;32m~\\AppData\\Local\\Programs\\Python\\Python310\\lib\\site-packages\\sklearn\\base.py:650\u001b[0m, in \u001b[0;36mBaseEstimator._validate_data\u001b[1;34m(self, X, y, reset, validate_separately, cast_to_ndarray, **check_params)\u001b[0m\n\u001b[0;32m    648\u001b[0m         y \u001b[38;5;241m=\u001b[39m check_array(y, input_name\u001b[38;5;241m=\u001b[39m\u001b[38;5;124m\"\u001b[39m\u001b[38;5;124my\u001b[39m\u001b[38;5;124m\"\u001b[39m, \u001b[38;5;241m*\u001b[39m\u001b[38;5;241m*\u001b[39mcheck_y_params)\n\u001b[0;32m    649\u001b[0m     \u001b[38;5;28;01melse\u001b[39;00m:\n\u001b[1;32m--> 650\u001b[0m         X, y \u001b[38;5;241m=\u001b[39m check_X_y(X, y, \u001b[38;5;241m*\u001b[39m\u001b[38;5;241m*\u001b[39mcheck_params)\n\u001b[0;32m    651\u001b[0m     out \u001b[38;5;241m=\u001b[39m X, y\n\u001b[0;32m    653\u001b[0m \u001b[38;5;28;01mif\u001b[39;00m \u001b[38;5;129;01mnot\u001b[39;00m no_val_X \u001b[38;5;129;01mand\u001b[39;00m check_params\u001b[38;5;241m.\u001b[39mget(\u001b[38;5;124m\"\u001b[39m\u001b[38;5;124mensure_2d\u001b[39m\u001b[38;5;124m\"\u001b[39m, \u001b[38;5;28;01mTrue\u001b[39;00m):\n",
      "File \u001b[1;32m~\\AppData\\Local\\Programs\\Python\\Python310\\lib\\site-packages\\sklearn\\utils\\validation.py:1263\u001b[0m, in \u001b[0;36mcheck_X_y\u001b[1;34m(X, y, accept_sparse, accept_large_sparse, dtype, order, copy, force_all_finite, ensure_2d, allow_nd, multi_output, ensure_min_samples, ensure_min_features, y_numeric, estimator)\u001b[0m\n\u001b[0;32m   1258\u001b[0m         estimator_name \u001b[38;5;241m=\u001b[39m _check_estimator_name(estimator)\n\u001b[0;32m   1259\u001b[0m     \u001b[38;5;28;01mraise\u001b[39;00m \u001b[38;5;167;01mValueError\u001b[39;00m(\n\u001b[0;32m   1260\u001b[0m         \u001b[38;5;124mf\u001b[39m\u001b[38;5;124m\"\u001b[39m\u001b[38;5;132;01m{\u001b[39;00mestimator_name\u001b[38;5;132;01m}\u001b[39;00m\u001b[38;5;124m requires y to be passed, but the target y is None\u001b[39m\u001b[38;5;124m\"\u001b[39m\n\u001b[0;32m   1261\u001b[0m     )\n\u001b[1;32m-> 1263\u001b[0m X \u001b[38;5;241m=\u001b[39m \u001b[43mcheck_array\u001b[49m\u001b[43m(\u001b[49m\n\u001b[0;32m   1264\u001b[0m \u001b[43m    \u001b[49m\u001b[43mX\u001b[49m\u001b[43m,\u001b[49m\n\u001b[0;32m   1265\u001b[0m \u001b[43m    \u001b[49m\u001b[43maccept_sparse\u001b[49m\u001b[38;5;241;43m=\u001b[39;49m\u001b[43maccept_sparse\u001b[49m\u001b[43m,\u001b[49m\n\u001b[0;32m   1266\u001b[0m \u001b[43m    \u001b[49m\u001b[43maccept_large_sparse\u001b[49m\u001b[38;5;241;43m=\u001b[39;49m\u001b[43maccept_large_sparse\u001b[49m\u001b[43m,\u001b[49m\n\u001b[0;32m   1267\u001b[0m \u001b[43m    \u001b[49m\u001b[43mdtype\u001b[49m\u001b[38;5;241;43m=\u001b[39;49m\u001b[43mdtype\u001b[49m\u001b[43m,\u001b[49m\n\u001b[0;32m   1268\u001b[0m \u001b[43m    \u001b[49m\u001b[43morder\u001b[49m\u001b[38;5;241;43m=\u001b[39;49m\u001b[43morder\u001b[49m\u001b[43m,\u001b[49m\n\u001b[0;32m   1269\u001b[0m \u001b[43m    \u001b[49m\u001b[43mcopy\u001b[49m\u001b[38;5;241;43m=\u001b[39;49m\u001b[43mcopy\u001b[49m\u001b[43m,\u001b[49m\n\u001b[0;32m   1270\u001b[0m \u001b[43m    \u001b[49m\u001b[43mforce_all_finite\u001b[49m\u001b[38;5;241;43m=\u001b[39;49m\u001b[43mforce_all_finite\u001b[49m\u001b[43m,\u001b[49m\n\u001b[0;32m   1271\u001b[0m \u001b[43m    \u001b[49m\u001b[43mensure_2d\u001b[49m\u001b[38;5;241;43m=\u001b[39;49m\u001b[43mensure_2d\u001b[49m\u001b[43m,\u001b[49m\n\u001b[0;32m   1272\u001b[0m \u001b[43m    \u001b[49m\u001b[43mallow_nd\u001b[49m\u001b[38;5;241;43m=\u001b[39;49m\u001b[43mallow_nd\u001b[49m\u001b[43m,\u001b[49m\n\u001b[0;32m   1273\u001b[0m \u001b[43m    \u001b[49m\u001b[43mensure_min_samples\u001b[49m\u001b[38;5;241;43m=\u001b[39;49m\u001b[43mensure_min_samples\u001b[49m\u001b[43m,\u001b[49m\n\u001b[0;32m   1274\u001b[0m \u001b[43m    \u001b[49m\u001b[43mensure_min_features\u001b[49m\u001b[38;5;241;43m=\u001b[39;49m\u001b[43mensure_min_features\u001b[49m\u001b[43m,\u001b[49m\n\u001b[0;32m   1275\u001b[0m \u001b[43m    \u001b[49m\u001b[43mestimator\u001b[49m\u001b[38;5;241;43m=\u001b[39;49m\u001b[43mestimator\u001b[49m\u001b[43m,\u001b[49m\n\u001b[0;32m   1276\u001b[0m \u001b[43m    \u001b[49m\u001b[43minput_name\u001b[49m\u001b[38;5;241;43m=\u001b[39;49m\u001b[38;5;124;43m\"\u001b[39;49m\u001b[38;5;124;43mX\u001b[39;49m\u001b[38;5;124;43m\"\u001b[39;49m\u001b[43m,\u001b[49m\n\u001b[0;32m   1277\u001b[0m \u001b[43m\u001b[49m\u001b[43m)\u001b[49m\n\u001b[0;32m   1279\u001b[0m y \u001b[38;5;241m=\u001b[39m _check_y(y, multi_output\u001b[38;5;241m=\u001b[39mmulti_output, y_numeric\u001b[38;5;241m=\u001b[39my_numeric, estimator\u001b[38;5;241m=\u001b[39mestimator)\n\u001b[0;32m   1281\u001b[0m check_consistent_length(X, y)\n",
      "File \u001b[1;32m~\\AppData\\Local\\Programs\\Python\\Python310\\lib\\site-packages\\sklearn\\utils\\validation.py:1012\u001b[0m, in \u001b[0;36mcheck_array\u001b[1;34m(array, accept_sparse, accept_large_sparse, dtype, order, copy, force_all_finite, ensure_2d, allow_nd, ensure_min_samples, ensure_min_features, estimator, input_name)\u001b[0m\n\u001b[0;32m   1009\u001b[0m \u001b[38;5;28;01mif\u001b[39;00m ensure_2d:\n\u001b[0;32m   1010\u001b[0m     \u001b[38;5;66;03m# If input is scalar raise error\u001b[39;00m\n\u001b[0;32m   1011\u001b[0m     \u001b[38;5;28;01mif\u001b[39;00m array\u001b[38;5;241m.\u001b[39mndim \u001b[38;5;241m==\u001b[39m \u001b[38;5;241m0\u001b[39m:\n\u001b[1;32m-> 1012\u001b[0m         \u001b[38;5;28;01mraise\u001b[39;00m \u001b[38;5;167;01mValueError\u001b[39;00m(\n\u001b[0;32m   1013\u001b[0m             \u001b[38;5;124m\"\u001b[39m\u001b[38;5;124mExpected 2D array, got scalar array instead:\u001b[39m\u001b[38;5;130;01m\\n\u001b[39;00m\u001b[38;5;124marray=\u001b[39m\u001b[38;5;132;01m{}\u001b[39;00m\u001b[38;5;124m.\u001b[39m\u001b[38;5;130;01m\\n\u001b[39;00m\u001b[38;5;124m\"\u001b[39m\n\u001b[0;32m   1014\u001b[0m             \u001b[38;5;124m\"\u001b[39m\u001b[38;5;124mReshape your data either using array.reshape(-1, 1) if \u001b[39m\u001b[38;5;124m\"\u001b[39m\n\u001b[0;32m   1015\u001b[0m             \u001b[38;5;124m\"\u001b[39m\u001b[38;5;124myour data has a single feature or array.reshape(1, -1) \u001b[39m\u001b[38;5;124m\"\u001b[39m\n\u001b[0;32m   1016\u001b[0m             \u001b[38;5;124m\"\u001b[39m\u001b[38;5;124mif it contains a single sample.\u001b[39m\u001b[38;5;124m\"\u001b[39m\u001b[38;5;241m.\u001b[39mformat(array)\n\u001b[0;32m   1017\u001b[0m         )\n\u001b[0;32m   1018\u001b[0m     \u001b[38;5;66;03m# If input is 1D raise error\u001b[39;00m\n\u001b[0;32m   1019\u001b[0m     \u001b[38;5;28;01mif\u001b[39;00m array\u001b[38;5;241m.\u001b[39mndim \u001b[38;5;241m==\u001b[39m \u001b[38;5;241m1\u001b[39m:\n\u001b[0;32m   1020\u001b[0m         \u001b[38;5;66;03m# If input is a Series-like object (eg. pandas Series or polars Series)\u001b[39;00m\n",
      "\u001b[1;31mValueError\u001b[0m: Expected 2D array, got scalar array instead:\narray=0.\nReshape your data either using array.reshape(-1, 1) if your data has a single feature or array.reshape(1, -1) if it contains a single sample."
     ]
    }
   ],
   "source": [
    "# создание пайплайна \n",
    "pipeline_4 = create_polynomial_pipeline(4, LinearRegression(fit_intercept=True))\n",
    "# обучение модели\n",
    "pipeline_4.fit(x[:,None], y[:,None]) # заметьте как это теперь просто! не надо ни признаки формировать, ни обучать регрессию\n",
    "\n",
    "# отображение\n",
    "x_all = np.linspace(x_min, x_max, 101)\n",
    "plt.plot(x_all, function(x_all), color = \"blue\")\n",
    "plt.plot(x_all, pipeline_4.predict(x_all[:,None]), color=\"red\")\n",
    "plt.scatter(x, y, marker=\"*\", color = \"blue\")\n",
    "plt.ylim(y.min()-1,y.max()+1)"
   ]
  },
  {
   "cell_type": "markdown",
   "id": "5e72cfd0",
   "metadata": {},
   "source": [
    "Регрессия с полиномом 10 степени:"
   ]
  },
  {
   "cell_type": "code",
   "execution_count": 22,
   "id": "7491302f",
   "metadata": {},
   "outputs": [
    {
     "ename": "ValueError",
     "evalue": "Expected 2D array, got scalar array instead:\narray=0.\nReshape your data either using array.reshape(-1, 1) if your data has a single feature or array.reshape(1, -1) if it contains a single sample.",
     "output_type": "error",
     "traceback": [
      "\u001b[1;31m---------------------------------------------------------------------------\u001b[0m",
      "\u001b[1;31mValueError\u001b[0m                                Traceback (most recent call last)",
      "Cell \u001b[1;32mIn[22], line 4\u001b[0m\n\u001b[0;32m      2\u001b[0m pipeline_10 \u001b[38;5;241m=\u001b[39m create_polynomial_pipeline(\u001b[38;5;241m10\u001b[39m, LinearRegression(fit_intercept\u001b[38;5;241m=\u001b[39m\u001b[38;5;28;01mTrue\u001b[39;00m))\n\u001b[0;32m      3\u001b[0m \u001b[38;5;66;03m# обучение модели\u001b[39;00m\n\u001b[1;32m----> 4\u001b[0m \u001b[43mpipeline_10\u001b[49m\u001b[38;5;241;43m.\u001b[39;49m\u001b[43mfit\u001b[49m\u001b[43m(\u001b[49m\u001b[43mx\u001b[49m\u001b[43m[\u001b[49m\u001b[43m:\u001b[49m\u001b[43m,\u001b[49m\u001b[38;5;28;43;01mNone\u001b[39;49;00m\u001b[43m]\u001b[49m\u001b[43m,\u001b[49m\u001b[43m \u001b[49m\u001b[43my\u001b[49m\u001b[43m[\u001b[49m\u001b[43m:\u001b[49m\u001b[43m,\u001b[49m\u001b[38;5;28;43;01mNone\u001b[39;49;00m\u001b[43m]\u001b[49m\u001b[43m)\u001b[49m\n\u001b[0;32m      6\u001b[0m \u001b[38;5;66;03m# отображение\u001b[39;00m\n\u001b[0;32m      7\u001b[0m x_all \u001b[38;5;241m=\u001b[39m np\u001b[38;5;241m.\u001b[39mlinspace(x_min, x_max, \u001b[38;5;241m101\u001b[39m)\n",
      "File \u001b[1;32m~\\AppData\\Local\\Programs\\Python\\Python310\\lib\\site-packages\\sklearn\\base.py:1474\u001b[0m, in \u001b[0;36m_fit_context.<locals>.decorator.<locals>.wrapper\u001b[1;34m(estimator, *args, **kwargs)\u001b[0m\n\u001b[0;32m   1467\u001b[0m     estimator\u001b[38;5;241m.\u001b[39m_validate_params()\n\u001b[0;32m   1469\u001b[0m \u001b[38;5;28;01mwith\u001b[39;00m config_context(\n\u001b[0;32m   1470\u001b[0m     skip_parameter_validation\u001b[38;5;241m=\u001b[39m(\n\u001b[0;32m   1471\u001b[0m         prefer_skip_nested_validation \u001b[38;5;129;01mor\u001b[39;00m global_skip_validation\n\u001b[0;32m   1472\u001b[0m     )\n\u001b[0;32m   1473\u001b[0m ):\n\u001b[1;32m-> 1474\u001b[0m     \u001b[38;5;28;01mreturn\u001b[39;00m fit_method(estimator, \u001b[38;5;241m*\u001b[39margs, \u001b[38;5;241m*\u001b[39m\u001b[38;5;241m*\u001b[39mkwargs)\n",
      "File \u001b[1;32m~\\AppData\\Local\\Programs\\Python\\Python310\\lib\\site-packages\\sklearn\\pipeline.py:475\u001b[0m, in \u001b[0;36mPipeline.fit\u001b[1;34m(self, X, y, **params)\u001b[0m\n\u001b[0;32m    473\u001b[0m     \u001b[38;5;28;01mif\u001b[39;00m \u001b[38;5;28mself\u001b[39m\u001b[38;5;241m.\u001b[39m_final_estimator \u001b[38;5;241m!=\u001b[39m \u001b[38;5;124m\"\u001b[39m\u001b[38;5;124mpassthrough\u001b[39m\u001b[38;5;124m\"\u001b[39m:\n\u001b[0;32m    474\u001b[0m         last_step_params \u001b[38;5;241m=\u001b[39m routed_params[\u001b[38;5;28mself\u001b[39m\u001b[38;5;241m.\u001b[39msteps[\u001b[38;5;241m-\u001b[39m\u001b[38;5;241m1\u001b[39m][\u001b[38;5;241m0\u001b[39m]]\n\u001b[1;32m--> 475\u001b[0m         \u001b[38;5;28mself\u001b[39m\u001b[38;5;241m.\u001b[39m_final_estimator\u001b[38;5;241m.\u001b[39mfit(Xt, y, \u001b[38;5;241m*\u001b[39m\u001b[38;5;241m*\u001b[39mlast_step_params[\u001b[38;5;124m\"\u001b[39m\u001b[38;5;124mfit\u001b[39m\u001b[38;5;124m\"\u001b[39m])\n\u001b[0;32m    477\u001b[0m \u001b[38;5;28;01mreturn\u001b[39;00m \u001b[38;5;28mself\u001b[39m\n",
      "File \u001b[1;32m~\\AppData\\Local\\Programs\\Python\\Python310\\lib\\site-packages\\sklearn\\base.py:1474\u001b[0m, in \u001b[0;36m_fit_context.<locals>.decorator.<locals>.wrapper\u001b[1;34m(estimator, *args, **kwargs)\u001b[0m\n\u001b[0;32m   1467\u001b[0m     estimator\u001b[38;5;241m.\u001b[39m_validate_params()\n\u001b[0;32m   1469\u001b[0m \u001b[38;5;28;01mwith\u001b[39;00m config_context(\n\u001b[0;32m   1470\u001b[0m     skip_parameter_validation\u001b[38;5;241m=\u001b[39m(\n\u001b[0;32m   1471\u001b[0m         prefer_skip_nested_validation \u001b[38;5;129;01mor\u001b[39;00m global_skip_validation\n\u001b[0;32m   1472\u001b[0m     )\n\u001b[0;32m   1473\u001b[0m ):\n\u001b[1;32m-> 1474\u001b[0m     \u001b[38;5;28;01mreturn\u001b[39;00m fit_method(estimator, \u001b[38;5;241m*\u001b[39margs, \u001b[38;5;241m*\u001b[39m\u001b[38;5;241m*\u001b[39mkwargs)\n",
      "File \u001b[1;32m~\\AppData\\Local\\Programs\\Python\\Python310\\lib\\site-packages\\sklearn\\linear_model\\_base.py:578\u001b[0m, in \u001b[0;36mLinearRegression.fit\u001b[1;34m(self, X, y, sample_weight)\u001b[0m\n\u001b[0;32m    574\u001b[0m n_jobs_ \u001b[38;5;241m=\u001b[39m \u001b[38;5;28mself\u001b[39m\u001b[38;5;241m.\u001b[39mn_jobs\n\u001b[0;32m    576\u001b[0m accept_sparse \u001b[38;5;241m=\u001b[39m \u001b[38;5;28;01mFalse\u001b[39;00m \u001b[38;5;28;01mif\u001b[39;00m \u001b[38;5;28mself\u001b[39m\u001b[38;5;241m.\u001b[39mpositive \u001b[38;5;28;01melse\u001b[39;00m [\u001b[38;5;124m\"\u001b[39m\u001b[38;5;124mcsr\u001b[39m\u001b[38;5;124m\"\u001b[39m, \u001b[38;5;124m\"\u001b[39m\u001b[38;5;124mcsc\u001b[39m\u001b[38;5;124m\"\u001b[39m, \u001b[38;5;124m\"\u001b[39m\u001b[38;5;124mcoo\u001b[39m\u001b[38;5;124m\"\u001b[39m]\n\u001b[1;32m--> 578\u001b[0m X, y \u001b[38;5;241m=\u001b[39m \u001b[38;5;28;43mself\u001b[39;49m\u001b[38;5;241;43m.\u001b[39;49m\u001b[43m_validate_data\u001b[49m\u001b[43m(\u001b[49m\n\u001b[0;32m    579\u001b[0m \u001b[43m    \u001b[49m\u001b[43mX\u001b[49m\u001b[43m,\u001b[49m\u001b[43m \u001b[49m\u001b[43my\u001b[49m\u001b[43m,\u001b[49m\u001b[43m \u001b[49m\u001b[43maccept_sparse\u001b[49m\u001b[38;5;241;43m=\u001b[39;49m\u001b[43maccept_sparse\u001b[49m\u001b[43m,\u001b[49m\u001b[43m \u001b[49m\u001b[43my_numeric\u001b[49m\u001b[38;5;241;43m=\u001b[39;49m\u001b[38;5;28;43;01mTrue\u001b[39;49;00m\u001b[43m,\u001b[49m\u001b[43m \u001b[49m\u001b[43mmulti_output\u001b[49m\u001b[38;5;241;43m=\u001b[39;49m\u001b[38;5;28;43;01mTrue\u001b[39;49;00m\n\u001b[0;32m    580\u001b[0m \u001b[43m\u001b[49m\u001b[43m)\u001b[49m\n\u001b[0;32m    582\u001b[0m has_sw \u001b[38;5;241m=\u001b[39m sample_weight \u001b[38;5;129;01mis\u001b[39;00m \u001b[38;5;129;01mnot\u001b[39;00m \u001b[38;5;28;01mNone\u001b[39;00m\n\u001b[0;32m    583\u001b[0m \u001b[38;5;28;01mif\u001b[39;00m has_sw:\n",
      "File \u001b[1;32m~\\AppData\\Local\\Programs\\Python\\Python310\\lib\\site-packages\\sklearn\\base.py:650\u001b[0m, in \u001b[0;36mBaseEstimator._validate_data\u001b[1;34m(self, X, y, reset, validate_separately, cast_to_ndarray, **check_params)\u001b[0m\n\u001b[0;32m    648\u001b[0m         y \u001b[38;5;241m=\u001b[39m check_array(y, input_name\u001b[38;5;241m=\u001b[39m\u001b[38;5;124m\"\u001b[39m\u001b[38;5;124my\u001b[39m\u001b[38;5;124m\"\u001b[39m, \u001b[38;5;241m*\u001b[39m\u001b[38;5;241m*\u001b[39mcheck_y_params)\n\u001b[0;32m    649\u001b[0m     \u001b[38;5;28;01melse\u001b[39;00m:\n\u001b[1;32m--> 650\u001b[0m         X, y \u001b[38;5;241m=\u001b[39m check_X_y(X, y, \u001b[38;5;241m*\u001b[39m\u001b[38;5;241m*\u001b[39mcheck_params)\n\u001b[0;32m    651\u001b[0m     out \u001b[38;5;241m=\u001b[39m X, y\n\u001b[0;32m    653\u001b[0m \u001b[38;5;28;01mif\u001b[39;00m \u001b[38;5;129;01mnot\u001b[39;00m no_val_X \u001b[38;5;129;01mand\u001b[39;00m check_params\u001b[38;5;241m.\u001b[39mget(\u001b[38;5;124m\"\u001b[39m\u001b[38;5;124mensure_2d\u001b[39m\u001b[38;5;124m\"\u001b[39m, \u001b[38;5;28;01mTrue\u001b[39;00m):\n",
      "File \u001b[1;32m~\\AppData\\Local\\Programs\\Python\\Python310\\lib\\site-packages\\sklearn\\utils\\validation.py:1263\u001b[0m, in \u001b[0;36mcheck_X_y\u001b[1;34m(X, y, accept_sparse, accept_large_sparse, dtype, order, copy, force_all_finite, ensure_2d, allow_nd, multi_output, ensure_min_samples, ensure_min_features, y_numeric, estimator)\u001b[0m\n\u001b[0;32m   1258\u001b[0m         estimator_name \u001b[38;5;241m=\u001b[39m _check_estimator_name(estimator)\n\u001b[0;32m   1259\u001b[0m     \u001b[38;5;28;01mraise\u001b[39;00m \u001b[38;5;167;01mValueError\u001b[39;00m(\n\u001b[0;32m   1260\u001b[0m         \u001b[38;5;124mf\u001b[39m\u001b[38;5;124m\"\u001b[39m\u001b[38;5;132;01m{\u001b[39;00mestimator_name\u001b[38;5;132;01m}\u001b[39;00m\u001b[38;5;124m requires y to be passed, but the target y is None\u001b[39m\u001b[38;5;124m\"\u001b[39m\n\u001b[0;32m   1261\u001b[0m     )\n\u001b[1;32m-> 1263\u001b[0m X \u001b[38;5;241m=\u001b[39m \u001b[43mcheck_array\u001b[49m\u001b[43m(\u001b[49m\n\u001b[0;32m   1264\u001b[0m \u001b[43m    \u001b[49m\u001b[43mX\u001b[49m\u001b[43m,\u001b[49m\n\u001b[0;32m   1265\u001b[0m \u001b[43m    \u001b[49m\u001b[43maccept_sparse\u001b[49m\u001b[38;5;241;43m=\u001b[39;49m\u001b[43maccept_sparse\u001b[49m\u001b[43m,\u001b[49m\n\u001b[0;32m   1266\u001b[0m \u001b[43m    \u001b[49m\u001b[43maccept_large_sparse\u001b[49m\u001b[38;5;241;43m=\u001b[39;49m\u001b[43maccept_large_sparse\u001b[49m\u001b[43m,\u001b[49m\n\u001b[0;32m   1267\u001b[0m \u001b[43m    \u001b[49m\u001b[43mdtype\u001b[49m\u001b[38;5;241;43m=\u001b[39;49m\u001b[43mdtype\u001b[49m\u001b[43m,\u001b[49m\n\u001b[0;32m   1268\u001b[0m \u001b[43m    \u001b[49m\u001b[43morder\u001b[49m\u001b[38;5;241;43m=\u001b[39;49m\u001b[43morder\u001b[49m\u001b[43m,\u001b[49m\n\u001b[0;32m   1269\u001b[0m \u001b[43m    \u001b[49m\u001b[43mcopy\u001b[49m\u001b[38;5;241;43m=\u001b[39;49m\u001b[43mcopy\u001b[49m\u001b[43m,\u001b[49m\n\u001b[0;32m   1270\u001b[0m \u001b[43m    \u001b[49m\u001b[43mforce_all_finite\u001b[49m\u001b[38;5;241;43m=\u001b[39;49m\u001b[43mforce_all_finite\u001b[49m\u001b[43m,\u001b[49m\n\u001b[0;32m   1271\u001b[0m \u001b[43m    \u001b[49m\u001b[43mensure_2d\u001b[49m\u001b[38;5;241;43m=\u001b[39;49m\u001b[43mensure_2d\u001b[49m\u001b[43m,\u001b[49m\n\u001b[0;32m   1272\u001b[0m \u001b[43m    \u001b[49m\u001b[43mallow_nd\u001b[49m\u001b[38;5;241;43m=\u001b[39;49m\u001b[43mallow_nd\u001b[49m\u001b[43m,\u001b[49m\n\u001b[0;32m   1273\u001b[0m \u001b[43m    \u001b[49m\u001b[43mensure_min_samples\u001b[49m\u001b[38;5;241;43m=\u001b[39;49m\u001b[43mensure_min_samples\u001b[49m\u001b[43m,\u001b[49m\n\u001b[0;32m   1274\u001b[0m \u001b[43m    \u001b[49m\u001b[43mensure_min_features\u001b[49m\u001b[38;5;241;43m=\u001b[39;49m\u001b[43mensure_min_features\u001b[49m\u001b[43m,\u001b[49m\n\u001b[0;32m   1275\u001b[0m \u001b[43m    \u001b[49m\u001b[43mestimator\u001b[49m\u001b[38;5;241;43m=\u001b[39;49m\u001b[43mestimator\u001b[49m\u001b[43m,\u001b[49m\n\u001b[0;32m   1276\u001b[0m \u001b[43m    \u001b[49m\u001b[43minput_name\u001b[49m\u001b[38;5;241;43m=\u001b[39;49m\u001b[38;5;124;43m\"\u001b[39;49m\u001b[38;5;124;43mX\u001b[39;49m\u001b[38;5;124;43m\"\u001b[39;49m\u001b[43m,\u001b[49m\n\u001b[0;32m   1277\u001b[0m \u001b[43m\u001b[49m\u001b[43m)\u001b[49m\n\u001b[0;32m   1279\u001b[0m y \u001b[38;5;241m=\u001b[39m _check_y(y, multi_output\u001b[38;5;241m=\u001b[39mmulti_output, y_numeric\u001b[38;5;241m=\u001b[39my_numeric, estimator\u001b[38;5;241m=\u001b[39mestimator)\n\u001b[0;32m   1281\u001b[0m check_consistent_length(X, y)\n",
      "File \u001b[1;32m~\\AppData\\Local\\Programs\\Python\\Python310\\lib\\site-packages\\sklearn\\utils\\validation.py:1012\u001b[0m, in \u001b[0;36mcheck_array\u001b[1;34m(array, accept_sparse, accept_large_sparse, dtype, order, copy, force_all_finite, ensure_2d, allow_nd, ensure_min_samples, ensure_min_features, estimator, input_name)\u001b[0m\n\u001b[0;32m   1009\u001b[0m \u001b[38;5;28;01mif\u001b[39;00m ensure_2d:\n\u001b[0;32m   1010\u001b[0m     \u001b[38;5;66;03m# If input is scalar raise error\u001b[39;00m\n\u001b[0;32m   1011\u001b[0m     \u001b[38;5;28;01mif\u001b[39;00m array\u001b[38;5;241m.\u001b[39mndim \u001b[38;5;241m==\u001b[39m \u001b[38;5;241m0\u001b[39m:\n\u001b[1;32m-> 1012\u001b[0m         \u001b[38;5;28;01mraise\u001b[39;00m \u001b[38;5;167;01mValueError\u001b[39;00m(\n\u001b[0;32m   1013\u001b[0m             \u001b[38;5;124m\"\u001b[39m\u001b[38;5;124mExpected 2D array, got scalar array instead:\u001b[39m\u001b[38;5;130;01m\\n\u001b[39;00m\u001b[38;5;124marray=\u001b[39m\u001b[38;5;132;01m{}\u001b[39;00m\u001b[38;5;124m.\u001b[39m\u001b[38;5;130;01m\\n\u001b[39;00m\u001b[38;5;124m\"\u001b[39m\n\u001b[0;32m   1014\u001b[0m             \u001b[38;5;124m\"\u001b[39m\u001b[38;5;124mReshape your data either using array.reshape(-1, 1) if \u001b[39m\u001b[38;5;124m\"\u001b[39m\n\u001b[0;32m   1015\u001b[0m             \u001b[38;5;124m\"\u001b[39m\u001b[38;5;124myour data has a single feature or array.reshape(1, -1) \u001b[39m\u001b[38;5;124m\"\u001b[39m\n\u001b[0;32m   1016\u001b[0m             \u001b[38;5;124m\"\u001b[39m\u001b[38;5;124mif it contains a single sample.\u001b[39m\u001b[38;5;124m\"\u001b[39m\u001b[38;5;241m.\u001b[39mformat(array)\n\u001b[0;32m   1017\u001b[0m         )\n\u001b[0;32m   1018\u001b[0m     \u001b[38;5;66;03m# If input is 1D raise error\u001b[39;00m\n\u001b[0;32m   1019\u001b[0m     \u001b[38;5;28;01mif\u001b[39;00m array\u001b[38;5;241m.\u001b[39mndim \u001b[38;5;241m==\u001b[39m \u001b[38;5;241m1\u001b[39m:\n\u001b[0;32m   1020\u001b[0m         \u001b[38;5;66;03m# If input is a Series-like object (eg. pandas Series or polars Series)\u001b[39;00m\n",
      "\u001b[1;31mValueError\u001b[0m: Expected 2D array, got scalar array instead:\narray=0.\nReshape your data either using array.reshape(-1, 1) if your data has a single feature or array.reshape(1, -1) if it contains a single sample."
     ]
    }
   ],
   "source": [
    "# создание пайплайна \n",
    "pipeline_10 = create_polynomial_pipeline(10, LinearRegression(fit_intercept=True))\n",
    "# обучение модели\n",
    "pipeline_10.fit(x[:,None], y[:,None])\n",
    "\n",
    "# отображение\n",
    "x_all = np.linspace(x_min, x_max, 101)\n",
    "plt.plot(x_all, function(x_all), color = \"blue\")\n",
    "plt.plot(x_all, pipeline_10.predict(x_all[:,None]), color=\"red\")\n",
    "plt.scatter(x, y, marker=\"*\", color = \"blue\")\n",
    "plt.ylim(y.min()-1,y.max()+1)"
   ]
  },
  {
   "cell_type": "markdown",
   "id": "fb7994aa",
   "metadata": {},
   "source": [
    "Мы обучили 2 линейные регрессии с приближением искомой функции полиномами 4 и 10 степени.\n",
    "\n",
    "Что можно сказать про результаты?\n",
    "\n",
    "Интуитивно полином 10 степени кажется хуже. Он более склонен описывать не общую закономерность данных, а скорее реагирует на шум, накладываемый на данные. Это отчётливо видно в районе 1 и 9 по координате х. И в целом полученная кривая совсем не похожа на исходную зависимость.\n",
    "\n",
    "Нам такое поведение не подходит. Но как можно выразить свою неприязнь к такого рода кривым на языке математики? Оказывается, что у \"плохих\" многочленов значения коэффициентов большие. \n",
    "\n",
    "К примеру в рассмотренных выше примерах веса следующие:"
   ]
  },
  {
   "cell_type": "code",
   "execution_count": 23,
   "id": "a047de3f",
   "metadata": {},
   "outputs": [
    {
     "ename": "AttributeError",
     "evalue": "'LinearRegression' object has no attribute 'coef_'",
     "output_type": "error",
     "traceback": [
      "\u001b[1;31m---------------------------------------------------------------------------\u001b[0m",
      "\u001b[1;31mAttributeError\u001b[0m                            Traceback (most recent call last)",
      "Cell \u001b[1;32mIn[23], line 1\u001b[0m\n\u001b[1;32m----> 1\u001b[0m \u001b[38;5;28mprint\u001b[39m(\u001b[38;5;124mf\u001b[39m\u001b[38;5;124m\"\u001b[39m\u001b[38;5;124mПолином  4 степени: \u001b[39m\u001b[38;5;132;01m{\u001b[39;00mpipeline_4\u001b[38;5;241m.\u001b[39msteps[\u001b[38;5;241m1\u001b[39m][\u001b[38;5;241m1\u001b[39m]\u001b[38;5;241m.\u001b[39mcoef_\u001b[38;5;132;01m}\u001b[39;00m\u001b[38;5;124m\"\u001b[39m)\n\u001b[0;32m      2\u001b[0m \u001b[38;5;28mprint\u001b[39m(\u001b[38;5;124mf\u001b[39m\u001b[38;5;124m\"\u001b[39m\u001b[38;5;124mПолином 10 степени: \u001b[39m\u001b[38;5;132;01m{\u001b[39;00mpipeline_10\u001b[38;5;241m.\u001b[39msteps[\u001b[38;5;241m1\u001b[39m][\u001b[38;5;241m1\u001b[39m]\u001b[38;5;241m.\u001b[39mcoef_\u001b[38;5;132;01m}\u001b[39;00m\u001b[38;5;124m\"\u001b[39m)\n",
      "\u001b[1;31mAttributeError\u001b[0m: 'LinearRegression' object has no attribute 'coef_'"
     ]
    }
   ],
   "source": [
    "print(f\"Полином  4 степени: {pipeline_4.steps[1][1].coef_}\")\n",
    "print(f\"Полином 10 степени: {pipeline_10.steps[1][1].coef_}\")"
   ]
  },
  {
   "cell_type": "markdown",
   "id": "cb036e4f",
   "metadata": {},
   "source": [
    "Модель регрессии с полиномиальными признаками 10 степени является примером <b>переобученной</b> модели. Переобучение в машинном обучении является важной проблемой. Переобученную модель будет невозможно использовать на новых данных, а ведь именно для этого мы и хотели обучить нашу модель."
   ]
  },
  {
   "cell_type": "markdown",
   "id": "a5cdfe5c",
   "metadata": {},
   "source": [
    "# Борьба с переобучением"
   ]
  },
  {
   "cell_type": "markdown",
   "id": "0a455930",
   "metadata": {},
   "source": [
    "Из рассмотренных ранее примеров может показаться что проблема переобучения решается просто: не надо обучать полином 10 степени на 10 точках. \n",
    "\n",
    "В одномерном случае мы вольны не выбирать большую степень многочлена. Но если входной вектор имеет размерность 200, а линейная регрессия желаемого результата не дала. Следующим шагом было бы извлечение полиномиальных признаков. Но при извлечении признаков всего лишь 2 степени, мы получим $C^{202}_2=\\frac{201\\cdot202}{2} = 20100$ признаков. Без дополнительной информации мы не можем откинуть какие-то компоненты вектора, а модель уже вполне может переобучиться. \n",
    "\n",
    "Так что в многомерном случае переобучение может возникнуть даже для полинома второй степени. \n",
    "\n",
    "Также стоит отметить, что метод обнаружения переобучения \"на глаз\" по анализу графика, как мы делали ранее, также абсолютно не сработает в многомерном случае."
   ]
  },
  {
   "cell_type": "markdown",
   "id": "2fe16482",
   "metadata": {},
   "source": [
    "## Тестовая выборка"
   ]
  },
  {
   "cell_type": "markdown",
   "id": "c8f0e3ad",
   "metadata": {},
   "source": [
    "Самым важным и единственным достоверным методом для обнаружения переобучения является разбиение всей выборки на <b>обучающую</b>(Training set) и <b>тестовую</b>(Test set):\n",
    "\n",
    "- на <b>обучающей</b> выборке мы обучаем веса модели.\n",
    "- на <b>тестовой</b> выборке мы проверяем качество обучения модели. Цель состоит в том, чтобы проверить как модель работает на новых данных. \n",
    "\n",
    "Обучающая и тестовая выборки обычно формируется разбиением имеющейся совокупности данных на 2 части. При формировании обучающей и тестовой выборок необходимо соблюдать аккуратность. \n",
    "\n",
    "Недопустимо смешивать эти выборки между собой. Это разрушит саму идею проверки модели на неизвестных её данных.\n",
    "\n",
    "Также недопустимо, чтобы разбиение оказалось зависимым от данных. \n",
    "- К примеру, если данные изначально отсортированы в некотором порядке, то нельзя просто взять начало данных в одну выборку, а конец взять в другую. Так мы столкнёмся с уже упомянутой проблемой экстраполяции. Поэтому перед разбиением данные необходимо перемешать. \n",
    "- Иногда может быть и совершенно противоположная ситуация. К примеру, ваши данные - временной ряд, а задача - по предыдущим значениям временного ряды предсказать следующее значение. Тогда наоборот недопустимо, чтобы в тестовую выборку попали данные из прошлого. Поскольку эти же значения, которые модели необходимо предсказать, окажутся в обучающей выборке в качестве значений, по которым стоится предсказание. Ошибка неочевидная, но сложная модель может воспользоваться такой информацией и тогда оценка качества модели будет некорректной."
   ]
  },
  {
   "cell_type": "markdown",
   "id": "dbee3f9a",
   "metadata": {},
   "source": [
    "Давайте оценим переобучение моделей с помощью разбиения данных на подвыборки."
   ]
  },
  {
   "cell_type": "code",
   "execution_count": 24,
   "id": "92d62be8",
   "metadata": {},
   "outputs": [
    {
     "ename": "ValueError",
     "evalue": "Expected 2D array, got scalar array instead:\narray=0.\nReshape your data either using array.reshape(-1, 1) if your data has a single feature or array.reshape(1, -1) if it contains a single sample.",
     "output_type": "error",
     "traceback": [
      "\u001b[1;31m---------------------------------------------------------------------------\u001b[0m",
      "\u001b[1;31mValueError\u001b[0m                                Traceback (most recent call last)",
      "Cell \u001b[1;32mIn[24], line 15\u001b[0m\n\u001b[0;32m     13\u001b[0m pipeline_4 \u001b[38;5;241m=\u001b[39m create_polynomial_pipeline(\u001b[38;5;241m4\u001b[39m, LinearRegression(fit_intercept\u001b[38;5;241m=\u001b[39m\u001b[38;5;28;01mTrue\u001b[39;00m))\n\u001b[0;32m     14\u001b[0m \u001b[38;5;66;03m# обучение модели\u001b[39;00m\n\u001b[1;32m---> 15\u001b[0m \u001b[43mpipeline_4\u001b[49m\u001b[38;5;241;43m.\u001b[39;49m\u001b[43mfit\u001b[49m\u001b[43m(\u001b[49m\u001b[43mx_train\u001b[49m\u001b[43m[\u001b[49m\u001b[43m:\u001b[49m\u001b[43m,\u001b[49m\u001b[38;5;28;43;01mNone\u001b[39;49;00m\u001b[43m]\u001b[49m\u001b[43m,\u001b[49m\u001b[43m \u001b[49m\u001b[43my_train\u001b[49m\u001b[43m[\u001b[49m\u001b[43m:\u001b[49m\u001b[43m,\u001b[49m\u001b[38;5;28;43;01mNone\u001b[39;49;00m\u001b[43m]\u001b[49m\u001b[43m)\u001b[49m\n\u001b[0;32m     17\u001b[0m \u001b[38;5;66;03m# создание пайплайна \u001b[39;00m\n\u001b[0;32m     18\u001b[0m pipeline_10 \u001b[38;5;241m=\u001b[39m create_polynomial_pipeline(\u001b[38;5;241m10\u001b[39m, LinearRegression(fit_intercept\u001b[38;5;241m=\u001b[39m\u001b[38;5;28;01mTrue\u001b[39;00m))\n",
      "File \u001b[1;32m~\\AppData\\Local\\Programs\\Python\\Python310\\lib\\site-packages\\sklearn\\base.py:1474\u001b[0m, in \u001b[0;36m_fit_context.<locals>.decorator.<locals>.wrapper\u001b[1;34m(estimator, *args, **kwargs)\u001b[0m\n\u001b[0;32m   1467\u001b[0m     estimator\u001b[38;5;241m.\u001b[39m_validate_params()\n\u001b[0;32m   1469\u001b[0m \u001b[38;5;28;01mwith\u001b[39;00m config_context(\n\u001b[0;32m   1470\u001b[0m     skip_parameter_validation\u001b[38;5;241m=\u001b[39m(\n\u001b[0;32m   1471\u001b[0m         prefer_skip_nested_validation \u001b[38;5;129;01mor\u001b[39;00m global_skip_validation\n\u001b[0;32m   1472\u001b[0m     )\n\u001b[0;32m   1473\u001b[0m ):\n\u001b[1;32m-> 1474\u001b[0m     \u001b[38;5;28;01mreturn\u001b[39;00m fit_method(estimator, \u001b[38;5;241m*\u001b[39margs, \u001b[38;5;241m*\u001b[39m\u001b[38;5;241m*\u001b[39mkwargs)\n",
      "File \u001b[1;32m~\\AppData\\Local\\Programs\\Python\\Python310\\lib\\site-packages\\sklearn\\pipeline.py:475\u001b[0m, in \u001b[0;36mPipeline.fit\u001b[1;34m(self, X, y, **params)\u001b[0m\n\u001b[0;32m    473\u001b[0m     \u001b[38;5;28;01mif\u001b[39;00m \u001b[38;5;28mself\u001b[39m\u001b[38;5;241m.\u001b[39m_final_estimator \u001b[38;5;241m!=\u001b[39m \u001b[38;5;124m\"\u001b[39m\u001b[38;5;124mpassthrough\u001b[39m\u001b[38;5;124m\"\u001b[39m:\n\u001b[0;32m    474\u001b[0m         last_step_params \u001b[38;5;241m=\u001b[39m routed_params[\u001b[38;5;28mself\u001b[39m\u001b[38;5;241m.\u001b[39msteps[\u001b[38;5;241m-\u001b[39m\u001b[38;5;241m1\u001b[39m][\u001b[38;5;241m0\u001b[39m]]\n\u001b[1;32m--> 475\u001b[0m         \u001b[38;5;28mself\u001b[39m\u001b[38;5;241m.\u001b[39m_final_estimator\u001b[38;5;241m.\u001b[39mfit(Xt, y, \u001b[38;5;241m*\u001b[39m\u001b[38;5;241m*\u001b[39mlast_step_params[\u001b[38;5;124m\"\u001b[39m\u001b[38;5;124mfit\u001b[39m\u001b[38;5;124m\"\u001b[39m])\n\u001b[0;32m    477\u001b[0m \u001b[38;5;28;01mreturn\u001b[39;00m \u001b[38;5;28mself\u001b[39m\n",
      "File \u001b[1;32m~\\AppData\\Local\\Programs\\Python\\Python310\\lib\\site-packages\\sklearn\\base.py:1474\u001b[0m, in \u001b[0;36m_fit_context.<locals>.decorator.<locals>.wrapper\u001b[1;34m(estimator, *args, **kwargs)\u001b[0m\n\u001b[0;32m   1467\u001b[0m     estimator\u001b[38;5;241m.\u001b[39m_validate_params()\n\u001b[0;32m   1469\u001b[0m \u001b[38;5;28;01mwith\u001b[39;00m config_context(\n\u001b[0;32m   1470\u001b[0m     skip_parameter_validation\u001b[38;5;241m=\u001b[39m(\n\u001b[0;32m   1471\u001b[0m         prefer_skip_nested_validation \u001b[38;5;129;01mor\u001b[39;00m global_skip_validation\n\u001b[0;32m   1472\u001b[0m     )\n\u001b[0;32m   1473\u001b[0m ):\n\u001b[1;32m-> 1474\u001b[0m     \u001b[38;5;28;01mreturn\u001b[39;00m fit_method(estimator, \u001b[38;5;241m*\u001b[39margs, \u001b[38;5;241m*\u001b[39m\u001b[38;5;241m*\u001b[39mkwargs)\n",
      "File \u001b[1;32m~\\AppData\\Local\\Programs\\Python\\Python310\\lib\\site-packages\\sklearn\\linear_model\\_base.py:578\u001b[0m, in \u001b[0;36mLinearRegression.fit\u001b[1;34m(self, X, y, sample_weight)\u001b[0m\n\u001b[0;32m    574\u001b[0m n_jobs_ \u001b[38;5;241m=\u001b[39m \u001b[38;5;28mself\u001b[39m\u001b[38;5;241m.\u001b[39mn_jobs\n\u001b[0;32m    576\u001b[0m accept_sparse \u001b[38;5;241m=\u001b[39m \u001b[38;5;28;01mFalse\u001b[39;00m \u001b[38;5;28;01mif\u001b[39;00m \u001b[38;5;28mself\u001b[39m\u001b[38;5;241m.\u001b[39mpositive \u001b[38;5;28;01melse\u001b[39;00m [\u001b[38;5;124m\"\u001b[39m\u001b[38;5;124mcsr\u001b[39m\u001b[38;5;124m\"\u001b[39m, \u001b[38;5;124m\"\u001b[39m\u001b[38;5;124mcsc\u001b[39m\u001b[38;5;124m\"\u001b[39m, \u001b[38;5;124m\"\u001b[39m\u001b[38;5;124mcoo\u001b[39m\u001b[38;5;124m\"\u001b[39m]\n\u001b[1;32m--> 578\u001b[0m X, y \u001b[38;5;241m=\u001b[39m \u001b[38;5;28;43mself\u001b[39;49m\u001b[38;5;241;43m.\u001b[39;49m\u001b[43m_validate_data\u001b[49m\u001b[43m(\u001b[49m\n\u001b[0;32m    579\u001b[0m \u001b[43m    \u001b[49m\u001b[43mX\u001b[49m\u001b[43m,\u001b[49m\u001b[43m \u001b[49m\u001b[43my\u001b[49m\u001b[43m,\u001b[49m\u001b[43m \u001b[49m\u001b[43maccept_sparse\u001b[49m\u001b[38;5;241;43m=\u001b[39;49m\u001b[43maccept_sparse\u001b[49m\u001b[43m,\u001b[49m\u001b[43m \u001b[49m\u001b[43my_numeric\u001b[49m\u001b[38;5;241;43m=\u001b[39;49m\u001b[38;5;28;43;01mTrue\u001b[39;49;00m\u001b[43m,\u001b[49m\u001b[43m \u001b[49m\u001b[43mmulti_output\u001b[49m\u001b[38;5;241;43m=\u001b[39;49m\u001b[38;5;28;43;01mTrue\u001b[39;49;00m\n\u001b[0;32m    580\u001b[0m \u001b[43m\u001b[49m\u001b[43m)\u001b[49m\n\u001b[0;32m    582\u001b[0m has_sw \u001b[38;5;241m=\u001b[39m sample_weight \u001b[38;5;129;01mis\u001b[39;00m \u001b[38;5;129;01mnot\u001b[39;00m \u001b[38;5;28;01mNone\u001b[39;00m\n\u001b[0;32m    583\u001b[0m \u001b[38;5;28;01mif\u001b[39;00m has_sw:\n",
      "File \u001b[1;32m~\\AppData\\Local\\Programs\\Python\\Python310\\lib\\site-packages\\sklearn\\base.py:650\u001b[0m, in \u001b[0;36mBaseEstimator._validate_data\u001b[1;34m(self, X, y, reset, validate_separately, cast_to_ndarray, **check_params)\u001b[0m\n\u001b[0;32m    648\u001b[0m         y \u001b[38;5;241m=\u001b[39m check_array(y, input_name\u001b[38;5;241m=\u001b[39m\u001b[38;5;124m\"\u001b[39m\u001b[38;5;124my\u001b[39m\u001b[38;5;124m\"\u001b[39m, \u001b[38;5;241m*\u001b[39m\u001b[38;5;241m*\u001b[39mcheck_y_params)\n\u001b[0;32m    649\u001b[0m     \u001b[38;5;28;01melse\u001b[39;00m:\n\u001b[1;32m--> 650\u001b[0m         X, y \u001b[38;5;241m=\u001b[39m check_X_y(X, y, \u001b[38;5;241m*\u001b[39m\u001b[38;5;241m*\u001b[39mcheck_params)\n\u001b[0;32m    651\u001b[0m     out \u001b[38;5;241m=\u001b[39m X, y\n\u001b[0;32m    653\u001b[0m \u001b[38;5;28;01mif\u001b[39;00m \u001b[38;5;129;01mnot\u001b[39;00m no_val_X \u001b[38;5;129;01mand\u001b[39;00m check_params\u001b[38;5;241m.\u001b[39mget(\u001b[38;5;124m\"\u001b[39m\u001b[38;5;124mensure_2d\u001b[39m\u001b[38;5;124m\"\u001b[39m, \u001b[38;5;28;01mTrue\u001b[39;00m):\n",
      "File \u001b[1;32m~\\AppData\\Local\\Programs\\Python\\Python310\\lib\\site-packages\\sklearn\\utils\\validation.py:1263\u001b[0m, in \u001b[0;36mcheck_X_y\u001b[1;34m(X, y, accept_sparse, accept_large_sparse, dtype, order, copy, force_all_finite, ensure_2d, allow_nd, multi_output, ensure_min_samples, ensure_min_features, y_numeric, estimator)\u001b[0m\n\u001b[0;32m   1258\u001b[0m         estimator_name \u001b[38;5;241m=\u001b[39m _check_estimator_name(estimator)\n\u001b[0;32m   1259\u001b[0m     \u001b[38;5;28;01mraise\u001b[39;00m \u001b[38;5;167;01mValueError\u001b[39;00m(\n\u001b[0;32m   1260\u001b[0m         \u001b[38;5;124mf\u001b[39m\u001b[38;5;124m\"\u001b[39m\u001b[38;5;132;01m{\u001b[39;00mestimator_name\u001b[38;5;132;01m}\u001b[39;00m\u001b[38;5;124m requires y to be passed, but the target y is None\u001b[39m\u001b[38;5;124m\"\u001b[39m\n\u001b[0;32m   1261\u001b[0m     )\n\u001b[1;32m-> 1263\u001b[0m X \u001b[38;5;241m=\u001b[39m \u001b[43mcheck_array\u001b[49m\u001b[43m(\u001b[49m\n\u001b[0;32m   1264\u001b[0m \u001b[43m    \u001b[49m\u001b[43mX\u001b[49m\u001b[43m,\u001b[49m\n\u001b[0;32m   1265\u001b[0m \u001b[43m    \u001b[49m\u001b[43maccept_sparse\u001b[49m\u001b[38;5;241;43m=\u001b[39;49m\u001b[43maccept_sparse\u001b[49m\u001b[43m,\u001b[49m\n\u001b[0;32m   1266\u001b[0m \u001b[43m    \u001b[49m\u001b[43maccept_large_sparse\u001b[49m\u001b[38;5;241;43m=\u001b[39;49m\u001b[43maccept_large_sparse\u001b[49m\u001b[43m,\u001b[49m\n\u001b[0;32m   1267\u001b[0m \u001b[43m    \u001b[49m\u001b[43mdtype\u001b[49m\u001b[38;5;241;43m=\u001b[39;49m\u001b[43mdtype\u001b[49m\u001b[43m,\u001b[49m\n\u001b[0;32m   1268\u001b[0m \u001b[43m    \u001b[49m\u001b[43morder\u001b[49m\u001b[38;5;241;43m=\u001b[39;49m\u001b[43morder\u001b[49m\u001b[43m,\u001b[49m\n\u001b[0;32m   1269\u001b[0m \u001b[43m    \u001b[49m\u001b[43mcopy\u001b[49m\u001b[38;5;241;43m=\u001b[39;49m\u001b[43mcopy\u001b[49m\u001b[43m,\u001b[49m\n\u001b[0;32m   1270\u001b[0m \u001b[43m    \u001b[49m\u001b[43mforce_all_finite\u001b[49m\u001b[38;5;241;43m=\u001b[39;49m\u001b[43mforce_all_finite\u001b[49m\u001b[43m,\u001b[49m\n\u001b[0;32m   1271\u001b[0m \u001b[43m    \u001b[49m\u001b[43mensure_2d\u001b[49m\u001b[38;5;241;43m=\u001b[39;49m\u001b[43mensure_2d\u001b[49m\u001b[43m,\u001b[49m\n\u001b[0;32m   1272\u001b[0m \u001b[43m    \u001b[49m\u001b[43mallow_nd\u001b[49m\u001b[38;5;241;43m=\u001b[39;49m\u001b[43mallow_nd\u001b[49m\u001b[43m,\u001b[49m\n\u001b[0;32m   1273\u001b[0m \u001b[43m    \u001b[49m\u001b[43mensure_min_samples\u001b[49m\u001b[38;5;241;43m=\u001b[39;49m\u001b[43mensure_min_samples\u001b[49m\u001b[43m,\u001b[49m\n\u001b[0;32m   1274\u001b[0m \u001b[43m    \u001b[49m\u001b[43mensure_min_features\u001b[49m\u001b[38;5;241;43m=\u001b[39;49m\u001b[43mensure_min_features\u001b[49m\u001b[43m,\u001b[49m\n\u001b[0;32m   1275\u001b[0m \u001b[43m    \u001b[49m\u001b[43mestimator\u001b[49m\u001b[38;5;241;43m=\u001b[39;49m\u001b[43mestimator\u001b[49m\u001b[43m,\u001b[49m\n\u001b[0;32m   1276\u001b[0m \u001b[43m    \u001b[49m\u001b[43minput_name\u001b[49m\u001b[38;5;241;43m=\u001b[39;49m\u001b[38;5;124;43m\"\u001b[39;49m\u001b[38;5;124;43mX\u001b[39;49m\u001b[38;5;124;43m\"\u001b[39;49m\u001b[43m,\u001b[49m\n\u001b[0;32m   1277\u001b[0m \u001b[43m\u001b[49m\u001b[43m)\u001b[49m\n\u001b[0;32m   1279\u001b[0m y \u001b[38;5;241m=\u001b[39m _check_y(y, multi_output\u001b[38;5;241m=\u001b[39mmulti_output, y_numeric\u001b[38;5;241m=\u001b[39my_numeric, estimator\u001b[38;5;241m=\u001b[39mestimator)\n\u001b[0;32m   1281\u001b[0m check_consistent_length(X, y)\n",
      "File \u001b[1;32m~\\AppData\\Local\\Programs\\Python\\Python310\\lib\\site-packages\\sklearn\\utils\\validation.py:1012\u001b[0m, in \u001b[0;36mcheck_array\u001b[1;34m(array, accept_sparse, accept_large_sparse, dtype, order, copy, force_all_finite, ensure_2d, allow_nd, ensure_min_samples, ensure_min_features, estimator, input_name)\u001b[0m\n\u001b[0;32m   1009\u001b[0m \u001b[38;5;28;01mif\u001b[39;00m ensure_2d:\n\u001b[0;32m   1010\u001b[0m     \u001b[38;5;66;03m# If input is scalar raise error\u001b[39;00m\n\u001b[0;32m   1011\u001b[0m     \u001b[38;5;28;01mif\u001b[39;00m array\u001b[38;5;241m.\u001b[39mndim \u001b[38;5;241m==\u001b[39m \u001b[38;5;241m0\u001b[39m:\n\u001b[1;32m-> 1012\u001b[0m         \u001b[38;5;28;01mraise\u001b[39;00m \u001b[38;5;167;01mValueError\u001b[39;00m(\n\u001b[0;32m   1013\u001b[0m             \u001b[38;5;124m\"\u001b[39m\u001b[38;5;124mExpected 2D array, got scalar array instead:\u001b[39m\u001b[38;5;130;01m\\n\u001b[39;00m\u001b[38;5;124marray=\u001b[39m\u001b[38;5;132;01m{}\u001b[39;00m\u001b[38;5;124m.\u001b[39m\u001b[38;5;130;01m\\n\u001b[39;00m\u001b[38;5;124m\"\u001b[39m\n\u001b[0;32m   1014\u001b[0m             \u001b[38;5;124m\"\u001b[39m\u001b[38;5;124mReshape your data either using array.reshape(-1, 1) if \u001b[39m\u001b[38;5;124m\"\u001b[39m\n\u001b[0;32m   1015\u001b[0m             \u001b[38;5;124m\"\u001b[39m\u001b[38;5;124myour data has a single feature or array.reshape(1, -1) \u001b[39m\u001b[38;5;124m\"\u001b[39m\n\u001b[0;32m   1016\u001b[0m             \u001b[38;5;124m\"\u001b[39m\u001b[38;5;124mif it contains a single sample.\u001b[39m\u001b[38;5;124m\"\u001b[39m\u001b[38;5;241m.\u001b[39mformat(array)\n\u001b[0;32m   1017\u001b[0m         )\n\u001b[0;32m   1018\u001b[0m     \u001b[38;5;66;03m# If input is 1D raise error\u001b[39;00m\n\u001b[0;32m   1019\u001b[0m     \u001b[38;5;28;01mif\u001b[39;00m array\u001b[38;5;241m.\u001b[39mndim \u001b[38;5;241m==\u001b[39m \u001b[38;5;241m1\u001b[39m:\n\u001b[0;32m   1020\u001b[0m         \u001b[38;5;66;03m# If input is a Series-like object (eg. pandas Series or polars Series)\u001b[39;00m\n",
      "\u001b[1;31mValueError\u001b[0m: Expected 2D array, got scalar array instead:\narray=0.\nReshape your data either using array.reshape(-1, 1) if your data has a single feature or array.reshape(1, -1) if it contains a single sample."
     ]
    }
   ],
   "source": [
    "# Устанавливаем семя для повторения эксперимента\n",
    "np.random.seed(46)\n",
    "num_samples = 20\n",
    "x_min, x_max = 0, 10\n",
    "x_train = np.random.uniform(x_min, x_max, num_samples)\n",
    "function = lambda x: x + np.cos(x)\n",
    "y_train = function(x_train) + np.random.normal(0, 1, num_samples)\n",
    "# формируем тестовую выборку\n",
    "x_test = np.random.uniform(x_min, x_max, 500)\n",
    "y_test = function(x_test) + np.random.normal(0, 1, 500)\n",
    "\n",
    "# создание пайплайна \n",
    "pipeline_4 = create_polynomial_pipeline(4, LinearRegression(fit_intercept=True))\n",
    "# обучение модели\n",
    "pipeline_4.fit(x_train[:,None], y_train[:,None])\n",
    "\n",
    "# создание пайплайна \n",
    "pipeline_10 = create_polynomial_pipeline(10, LinearRegression(fit_intercept=True))\n",
    "# обучение модели\n",
    "pipeline_10.fit(x_train[:,None], y_train[:,None])\n",
    "\n",
    "# отображение\n",
    "x_all = np.linspace(x_min, x_max, 101)\n",
    "plt.plot(x_all, function(x_all), color = \"blue\", label=\"Truth\")\n",
    "plt.plot(x_all, pipeline_4.predict(x_all[:,None]), color=\"green\", label=\"$P_{4}$\")\n",
    "plt.plot(x_all, pipeline_10.predict(x_all[:,None]), color=\"red\", label=\"$P_{10}$\")\n",
    "plt.scatter(x_train, y_train, marker=\"*\", color = \"blue\", label=\"Training set\")\n",
    "plt.scatter(x_test, y_test, marker=\"*\", color = \"orange\", label=\"Test set\")\n",
    "plt.ylim(y_train.min()-1,y_train.max()+1)\n",
    "plt.legend()\n",
    "\n",
    "print(\"На обучающей выборке:\")\n",
    "print(f\"Функция ошибки для полинома  4 степени: {mean_squared_error(y_train, pipeline_4.predict(x_train[:,None]))}\")\n",
    "print(f\"Функция ошибки для полинома 10 степени: {mean_squared_error(y_train, pipeline_10.predict(x_train[:,None]))}\")\n",
    "print(\"На тестовой выборке:\")\n",
    "print(f\"Функция ошибки для полинома  4 степени: {mean_squared_error(y_test, pipeline_4.predict(x_test[:,None]))}\")\n",
    "print(f\"Функция ошибки для полинома 10 степени: {mean_squared_error(y_test, pipeline_10.predict(x_test[:,None]))}\")"
   ]
  },
  {
   "cell_type": "markdown",
   "id": "d25848e6",
   "metadata": {},
   "source": [
    "Ошибка моделей на тестовой выборке больше чем на обучающей у обеих моделей, это нормально, но вот ошибка полинома 10 степени всё же отличается на несколько порядков, это явно говорит о сильном переобучении."
   ]
  },
  {
   "cell_type": "markdown",
   "id": "a6c6445e",
   "metadata": {},
   "source": [
    "Отобразим зависимость ошибки на тестовой и обучающей выборке в зависимости от степени полинома:"
   ]
  },
  {
   "cell_type": "code",
   "execution_count": 25,
   "id": "67282f07",
   "metadata": {},
   "outputs": [
    {
     "ename": "ValueError",
     "evalue": "Expected 2D array, got scalar array instead:\narray=0.\nReshape your data either using array.reshape(-1, 1) if your data has a single feature or array.reshape(1, -1) if it contains a single sample.",
     "output_type": "error",
     "traceback": [
      "\u001b[1;31m---------------------------------------------------------------------------\u001b[0m",
      "\u001b[1;31mValueError\u001b[0m                                Traceback (most recent call last)",
      "Cell \u001b[1;32mIn[25], line 17\u001b[0m\n\u001b[0;32m     15\u001b[0m \u001b[38;5;28;01mfor\u001b[39;00m degree \u001b[38;5;129;01min\u001b[39;00m \u001b[38;5;28mrange\u001b[39m(\u001b[38;5;241m1\u001b[39m, deg):\n\u001b[0;32m     16\u001b[0m     model \u001b[38;5;241m=\u001b[39m create_polynomial_pipeline(degree, LinearRegression(fit_intercept\u001b[38;5;241m=\u001b[39m\u001b[38;5;28;01mTrue\u001b[39;00m))\n\u001b[1;32m---> 17\u001b[0m     \u001b[43mmodel\u001b[49m\u001b[38;5;241;43m.\u001b[39;49m\u001b[43mfit\u001b[49m\u001b[43m(\u001b[49m\u001b[43mx_train\u001b[49m\u001b[43m[\u001b[49m\u001b[43m:\u001b[49m\u001b[43m,\u001b[49m\u001b[38;5;28;43;01mNone\u001b[39;49;00m\u001b[43m]\u001b[49m\u001b[43m,\u001b[49m\u001b[43m \u001b[49m\u001b[43my_train\u001b[49m\u001b[43m)\u001b[49m\n\u001b[0;32m     18\u001b[0m     err_train\u001b[38;5;241m.\u001b[39mappend(mean_squared_error(y_train, model\u001b[38;5;241m.\u001b[39mpredict(x_train[:, \u001b[38;5;28;01mNone\u001b[39;00m])))\n\u001b[0;32m     19\u001b[0m     err_test\u001b[38;5;241m.\u001b[39mappend(mean_squared_error(y_test, model\u001b[38;5;241m.\u001b[39mpredict(x_test[:, \u001b[38;5;28;01mNone\u001b[39;00m])))\n",
      "File \u001b[1;32m~\\AppData\\Local\\Programs\\Python\\Python310\\lib\\site-packages\\sklearn\\base.py:1474\u001b[0m, in \u001b[0;36m_fit_context.<locals>.decorator.<locals>.wrapper\u001b[1;34m(estimator, *args, **kwargs)\u001b[0m\n\u001b[0;32m   1467\u001b[0m     estimator\u001b[38;5;241m.\u001b[39m_validate_params()\n\u001b[0;32m   1469\u001b[0m \u001b[38;5;28;01mwith\u001b[39;00m config_context(\n\u001b[0;32m   1470\u001b[0m     skip_parameter_validation\u001b[38;5;241m=\u001b[39m(\n\u001b[0;32m   1471\u001b[0m         prefer_skip_nested_validation \u001b[38;5;129;01mor\u001b[39;00m global_skip_validation\n\u001b[0;32m   1472\u001b[0m     )\n\u001b[0;32m   1473\u001b[0m ):\n\u001b[1;32m-> 1474\u001b[0m     \u001b[38;5;28;01mreturn\u001b[39;00m fit_method(estimator, \u001b[38;5;241m*\u001b[39margs, \u001b[38;5;241m*\u001b[39m\u001b[38;5;241m*\u001b[39mkwargs)\n",
      "File \u001b[1;32m~\\AppData\\Local\\Programs\\Python\\Python310\\lib\\site-packages\\sklearn\\pipeline.py:475\u001b[0m, in \u001b[0;36mPipeline.fit\u001b[1;34m(self, X, y, **params)\u001b[0m\n\u001b[0;32m    473\u001b[0m     \u001b[38;5;28;01mif\u001b[39;00m \u001b[38;5;28mself\u001b[39m\u001b[38;5;241m.\u001b[39m_final_estimator \u001b[38;5;241m!=\u001b[39m \u001b[38;5;124m\"\u001b[39m\u001b[38;5;124mpassthrough\u001b[39m\u001b[38;5;124m\"\u001b[39m:\n\u001b[0;32m    474\u001b[0m         last_step_params \u001b[38;5;241m=\u001b[39m routed_params[\u001b[38;5;28mself\u001b[39m\u001b[38;5;241m.\u001b[39msteps[\u001b[38;5;241m-\u001b[39m\u001b[38;5;241m1\u001b[39m][\u001b[38;5;241m0\u001b[39m]]\n\u001b[1;32m--> 475\u001b[0m         \u001b[38;5;28mself\u001b[39m\u001b[38;5;241m.\u001b[39m_final_estimator\u001b[38;5;241m.\u001b[39mfit(Xt, y, \u001b[38;5;241m*\u001b[39m\u001b[38;5;241m*\u001b[39mlast_step_params[\u001b[38;5;124m\"\u001b[39m\u001b[38;5;124mfit\u001b[39m\u001b[38;5;124m\"\u001b[39m])\n\u001b[0;32m    477\u001b[0m \u001b[38;5;28;01mreturn\u001b[39;00m \u001b[38;5;28mself\u001b[39m\n",
      "File \u001b[1;32m~\\AppData\\Local\\Programs\\Python\\Python310\\lib\\site-packages\\sklearn\\base.py:1474\u001b[0m, in \u001b[0;36m_fit_context.<locals>.decorator.<locals>.wrapper\u001b[1;34m(estimator, *args, **kwargs)\u001b[0m\n\u001b[0;32m   1467\u001b[0m     estimator\u001b[38;5;241m.\u001b[39m_validate_params()\n\u001b[0;32m   1469\u001b[0m \u001b[38;5;28;01mwith\u001b[39;00m config_context(\n\u001b[0;32m   1470\u001b[0m     skip_parameter_validation\u001b[38;5;241m=\u001b[39m(\n\u001b[0;32m   1471\u001b[0m         prefer_skip_nested_validation \u001b[38;5;129;01mor\u001b[39;00m global_skip_validation\n\u001b[0;32m   1472\u001b[0m     )\n\u001b[0;32m   1473\u001b[0m ):\n\u001b[1;32m-> 1474\u001b[0m     \u001b[38;5;28;01mreturn\u001b[39;00m fit_method(estimator, \u001b[38;5;241m*\u001b[39margs, \u001b[38;5;241m*\u001b[39m\u001b[38;5;241m*\u001b[39mkwargs)\n",
      "File \u001b[1;32m~\\AppData\\Local\\Programs\\Python\\Python310\\lib\\site-packages\\sklearn\\linear_model\\_base.py:578\u001b[0m, in \u001b[0;36mLinearRegression.fit\u001b[1;34m(self, X, y, sample_weight)\u001b[0m\n\u001b[0;32m    574\u001b[0m n_jobs_ \u001b[38;5;241m=\u001b[39m \u001b[38;5;28mself\u001b[39m\u001b[38;5;241m.\u001b[39mn_jobs\n\u001b[0;32m    576\u001b[0m accept_sparse \u001b[38;5;241m=\u001b[39m \u001b[38;5;28;01mFalse\u001b[39;00m \u001b[38;5;28;01mif\u001b[39;00m \u001b[38;5;28mself\u001b[39m\u001b[38;5;241m.\u001b[39mpositive \u001b[38;5;28;01melse\u001b[39;00m [\u001b[38;5;124m\"\u001b[39m\u001b[38;5;124mcsr\u001b[39m\u001b[38;5;124m\"\u001b[39m, \u001b[38;5;124m\"\u001b[39m\u001b[38;5;124mcsc\u001b[39m\u001b[38;5;124m\"\u001b[39m, \u001b[38;5;124m\"\u001b[39m\u001b[38;5;124mcoo\u001b[39m\u001b[38;5;124m\"\u001b[39m]\n\u001b[1;32m--> 578\u001b[0m X, y \u001b[38;5;241m=\u001b[39m \u001b[38;5;28;43mself\u001b[39;49m\u001b[38;5;241;43m.\u001b[39;49m\u001b[43m_validate_data\u001b[49m\u001b[43m(\u001b[49m\n\u001b[0;32m    579\u001b[0m \u001b[43m    \u001b[49m\u001b[43mX\u001b[49m\u001b[43m,\u001b[49m\u001b[43m \u001b[49m\u001b[43my\u001b[49m\u001b[43m,\u001b[49m\u001b[43m \u001b[49m\u001b[43maccept_sparse\u001b[49m\u001b[38;5;241;43m=\u001b[39;49m\u001b[43maccept_sparse\u001b[49m\u001b[43m,\u001b[49m\u001b[43m \u001b[49m\u001b[43my_numeric\u001b[49m\u001b[38;5;241;43m=\u001b[39;49m\u001b[38;5;28;43;01mTrue\u001b[39;49;00m\u001b[43m,\u001b[49m\u001b[43m \u001b[49m\u001b[43mmulti_output\u001b[49m\u001b[38;5;241;43m=\u001b[39;49m\u001b[38;5;28;43;01mTrue\u001b[39;49;00m\n\u001b[0;32m    580\u001b[0m \u001b[43m\u001b[49m\u001b[43m)\u001b[49m\n\u001b[0;32m    582\u001b[0m has_sw \u001b[38;5;241m=\u001b[39m sample_weight \u001b[38;5;129;01mis\u001b[39;00m \u001b[38;5;129;01mnot\u001b[39;00m \u001b[38;5;28;01mNone\u001b[39;00m\n\u001b[0;32m    583\u001b[0m \u001b[38;5;28;01mif\u001b[39;00m has_sw:\n",
      "File \u001b[1;32m~\\AppData\\Local\\Programs\\Python\\Python310\\lib\\site-packages\\sklearn\\base.py:650\u001b[0m, in \u001b[0;36mBaseEstimator._validate_data\u001b[1;34m(self, X, y, reset, validate_separately, cast_to_ndarray, **check_params)\u001b[0m\n\u001b[0;32m    648\u001b[0m         y \u001b[38;5;241m=\u001b[39m check_array(y, input_name\u001b[38;5;241m=\u001b[39m\u001b[38;5;124m\"\u001b[39m\u001b[38;5;124my\u001b[39m\u001b[38;5;124m\"\u001b[39m, \u001b[38;5;241m*\u001b[39m\u001b[38;5;241m*\u001b[39mcheck_y_params)\n\u001b[0;32m    649\u001b[0m     \u001b[38;5;28;01melse\u001b[39;00m:\n\u001b[1;32m--> 650\u001b[0m         X, y \u001b[38;5;241m=\u001b[39m check_X_y(X, y, \u001b[38;5;241m*\u001b[39m\u001b[38;5;241m*\u001b[39mcheck_params)\n\u001b[0;32m    651\u001b[0m     out \u001b[38;5;241m=\u001b[39m X, y\n\u001b[0;32m    653\u001b[0m \u001b[38;5;28;01mif\u001b[39;00m \u001b[38;5;129;01mnot\u001b[39;00m no_val_X \u001b[38;5;129;01mand\u001b[39;00m check_params\u001b[38;5;241m.\u001b[39mget(\u001b[38;5;124m\"\u001b[39m\u001b[38;5;124mensure_2d\u001b[39m\u001b[38;5;124m\"\u001b[39m, \u001b[38;5;28;01mTrue\u001b[39;00m):\n",
      "File \u001b[1;32m~\\AppData\\Local\\Programs\\Python\\Python310\\lib\\site-packages\\sklearn\\utils\\validation.py:1263\u001b[0m, in \u001b[0;36mcheck_X_y\u001b[1;34m(X, y, accept_sparse, accept_large_sparse, dtype, order, copy, force_all_finite, ensure_2d, allow_nd, multi_output, ensure_min_samples, ensure_min_features, y_numeric, estimator)\u001b[0m\n\u001b[0;32m   1258\u001b[0m         estimator_name \u001b[38;5;241m=\u001b[39m _check_estimator_name(estimator)\n\u001b[0;32m   1259\u001b[0m     \u001b[38;5;28;01mraise\u001b[39;00m \u001b[38;5;167;01mValueError\u001b[39;00m(\n\u001b[0;32m   1260\u001b[0m         \u001b[38;5;124mf\u001b[39m\u001b[38;5;124m\"\u001b[39m\u001b[38;5;132;01m{\u001b[39;00mestimator_name\u001b[38;5;132;01m}\u001b[39;00m\u001b[38;5;124m requires y to be passed, but the target y is None\u001b[39m\u001b[38;5;124m\"\u001b[39m\n\u001b[0;32m   1261\u001b[0m     )\n\u001b[1;32m-> 1263\u001b[0m X \u001b[38;5;241m=\u001b[39m \u001b[43mcheck_array\u001b[49m\u001b[43m(\u001b[49m\n\u001b[0;32m   1264\u001b[0m \u001b[43m    \u001b[49m\u001b[43mX\u001b[49m\u001b[43m,\u001b[49m\n\u001b[0;32m   1265\u001b[0m \u001b[43m    \u001b[49m\u001b[43maccept_sparse\u001b[49m\u001b[38;5;241;43m=\u001b[39;49m\u001b[43maccept_sparse\u001b[49m\u001b[43m,\u001b[49m\n\u001b[0;32m   1266\u001b[0m \u001b[43m    \u001b[49m\u001b[43maccept_large_sparse\u001b[49m\u001b[38;5;241;43m=\u001b[39;49m\u001b[43maccept_large_sparse\u001b[49m\u001b[43m,\u001b[49m\n\u001b[0;32m   1267\u001b[0m \u001b[43m    \u001b[49m\u001b[43mdtype\u001b[49m\u001b[38;5;241;43m=\u001b[39;49m\u001b[43mdtype\u001b[49m\u001b[43m,\u001b[49m\n\u001b[0;32m   1268\u001b[0m \u001b[43m    \u001b[49m\u001b[43morder\u001b[49m\u001b[38;5;241;43m=\u001b[39;49m\u001b[43morder\u001b[49m\u001b[43m,\u001b[49m\n\u001b[0;32m   1269\u001b[0m \u001b[43m    \u001b[49m\u001b[43mcopy\u001b[49m\u001b[38;5;241;43m=\u001b[39;49m\u001b[43mcopy\u001b[49m\u001b[43m,\u001b[49m\n\u001b[0;32m   1270\u001b[0m \u001b[43m    \u001b[49m\u001b[43mforce_all_finite\u001b[49m\u001b[38;5;241;43m=\u001b[39;49m\u001b[43mforce_all_finite\u001b[49m\u001b[43m,\u001b[49m\n\u001b[0;32m   1271\u001b[0m \u001b[43m    \u001b[49m\u001b[43mensure_2d\u001b[49m\u001b[38;5;241;43m=\u001b[39;49m\u001b[43mensure_2d\u001b[49m\u001b[43m,\u001b[49m\n\u001b[0;32m   1272\u001b[0m \u001b[43m    \u001b[49m\u001b[43mallow_nd\u001b[49m\u001b[38;5;241;43m=\u001b[39;49m\u001b[43mallow_nd\u001b[49m\u001b[43m,\u001b[49m\n\u001b[0;32m   1273\u001b[0m \u001b[43m    \u001b[49m\u001b[43mensure_min_samples\u001b[49m\u001b[38;5;241;43m=\u001b[39;49m\u001b[43mensure_min_samples\u001b[49m\u001b[43m,\u001b[49m\n\u001b[0;32m   1274\u001b[0m \u001b[43m    \u001b[49m\u001b[43mensure_min_features\u001b[49m\u001b[38;5;241;43m=\u001b[39;49m\u001b[43mensure_min_features\u001b[49m\u001b[43m,\u001b[49m\n\u001b[0;32m   1275\u001b[0m \u001b[43m    \u001b[49m\u001b[43mestimator\u001b[49m\u001b[38;5;241;43m=\u001b[39;49m\u001b[43mestimator\u001b[49m\u001b[43m,\u001b[49m\n\u001b[0;32m   1276\u001b[0m \u001b[43m    \u001b[49m\u001b[43minput_name\u001b[49m\u001b[38;5;241;43m=\u001b[39;49m\u001b[38;5;124;43m\"\u001b[39;49m\u001b[38;5;124;43mX\u001b[39;49m\u001b[38;5;124;43m\"\u001b[39;49m\u001b[43m,\u001b[49m\n\u001b[0;32m   1277\u001b[0m \u001b[43m\u001b[49m\u001b[43m)\u001b[49m\n\u001b[0;32m   1279\u001b[0m y \u001b[38;5;241m=\u001b[39m _check_y(y, multi_output\u001b[38;5;241m=\u001b[39mmulti_output, y_numeric\u001b[38;5;241m=\u001b[39my_numeric, estimator\u001b[38;5;241m=\u001b[39mestimator)\n\u001b[0;32m   1281\u001b[0m check_consistent_length(X, y)\n",
      "File \u001b[1;32m~\\AppData\\Local\\Programs\\Python\\Python310\\lib\\site-packages\\sklearn\\utils\\validation.py:1012\u001b[0m, in \u001b[0;36mcheck_array\u001b[1;34m(array, accept_sparse, accept_large_sparse, dtype, order, copy, force_all_finite, ensure_2d, allow_nd, ensure_min_samples, ensure_min_features, estimator, input_name)\u001b[0m\n\u001b[0;32m   1009\u001b[0m \u001b[38;5;28;01mif\u001b[39;00m ensure_2d:\n\u001b[0;32m   1010\u001b[0m     \u001b[38;5;66;03m# If input is scalar raise error\u001b[39;00m\n\u001b[0;32m   1011\u001b[0m     \u001b[38;5;28;01mif\u001b[39;00m array\u001b[38;5;241m.\u001b[39mndim \u001b[38;5;241m==\u001b[39m \u001b[38;5;241m0\u001b[39m:\n\u001b[1;32m-> 1012\u001b[0m         \u001b[38;5;28;01mraise\u001b[39;00m \u001b[38;5;167;01mValueError\u001b[39;00m(\n\u001b[0;32m   1013\u001b[0m             \u001b[38;5;124m\"\u001b[39m\u001b[38;5;124mExpected 2D array, got scalar array instead:\u001b[39m\u001b[38;5;130;01m\\n\u001b[39;00m\u001b[38;5;124marray=\u001b[39m\u001b[38;5;132;01m{}\u001b[39;00m\u001b[38;5;124m.\u001b[39m\u001b[38;5;130;01m\\n\u001b[39;00m\u001b[38;5;124m\"\u001b[39m\n\u001b[0;32m   1014\u001b[0m             \u001b[38;5;124m\"\u001b[39m\u001b[38;5;124mReshape your data either using array.reshape(-1, 1) if \u001b[39m\u001b[38;5;124m\"\u001b[39m\n\u001b[0;32m   1015\u001b[0m             \u001b[38;5;124m\"\u001b[39m\u001b[38;5;124myour data has a single feature or array.reshape(1, -1) \u001b[39m\u001b[38;5;124m\"\u001b[39m\n\u001b[0;32m   1016\u001b[0m             \u001b[38;5;124m\"\u001b[39m\u001b[38;5;124mif it contains a single sample.\u001b[39m\u001b[38;5;124m\"\u001b[39m\u001b[38;5;241m.\u001b[39mformat(array)\n\u001b[0;32m   1017\u001b[0m         )\n\u001b[0;32m   1018\u001b[0m     \u001b[38;5;66;03m# If input is 1D raise error\u001b[39;00m\n\u001b[0;32m   1019\u001b[0m     \u001b[38;5;28;01mif\u001b[39;00m array\u001b[38;5;241m.\u001b[39mndim \u001b[38;5;241m==\u001b[39m \u001b[38;5;241m1\u001b[39m:\n\u001b[0;32m   1020\u001b[0m         \u001b[38;5;66;03m# If input is a Series-like object (eg. pandas Series or polars Series)\u001b[39;00m\n",
      "\u001b[1;31mValueError\u001b[0m: Expected 2D array, got scalar array instead:\narray=0.\nReshape your data either using array.reshape(-1, 1) if your data has a single feature or array.reshape(1, -1) if it contains a single sample."
     ]
    }
   ],
   "source": [
    "# сгенерируем обучающую выборку побольше:\n",
    "np.random.seed(48)\n",
    "num_samples = 60\n",
    "x_min, x_max = 0, 10\n",
    "x_train = np.random.uniform(x_min, x_max, num_samples)\n",
    "function = lambda x: x + np.cos(x)\n",
    "y_train = function(x_train) + np.random.normal(0, 1, num_samples)\n",
    "# формируем тестовую выборку\n",
    "x_test = np.random.uniform(x_min, x_max, 500)\n",
    "y_test = function(x_test) + np.random.normal(0, 1, 500)\n",
    "\n",
    "err_train = []\n",
    "err_test = []\n",
    "deg = 20\n",
    "for degree in range(1, deg):\n",
    "    model = create_polynomial_pipeline(degree, LinearRegression(fit_intercept=True))\n",
    "    model.fit(x_train[:,None], y_train)\n",
    "    err_train.append(mean_squared_error(y_train, model.predict(x_train[:, None])))\n",
    "    err_test.append(mean_squared_error(y_test, model.predict(x_test[:, None])))\n",
    "plt.subplot(121)\n",
    "plt.plot(range(1, deg), err_train, label=\"Train loss\")\n",
    "plt.plot(range(1, deg), err_test, label=\"Test loss\")\n",
    "plt.yscale(\"log\")\n",
    "plt.legend()\n",
    "\n",
    "plt.subplot(122)\n",
    "x_all = np.linspace(x_min, x_max, 101)\n",
    "plt.plot(x_all, function(x_all), color = \"blue\", label=\"Truth\")\n",
    "plt.scatter(x_train, y_train, marker=\"*\", color = \"blue\", label=\"Training set\", zorder=2)\n",
    "plt.scatter(x_test, y_test, marker=\"*\", color = \"orange\", label=\"Test set\")"
   ]
  },
  {
   "cell_type": "markdown",
   "id": "56f110d2",
   "metadata": {},
   "source": [
    "На этом графике мы видим, что сначала ошибки на тестовой и обучающей выборках синхронно убывают, потом ошибка на обучающей выборке продолжает убывать, а на тестовой выборке возрастает. Под конец ошибка на обучающей выборке тоже начинает возрастать, что скорее всего вызвано уже арифметическими ошибками, которые возникают из-за слишком больших значений коэффициентов. "
   ]
  },
  {
   "cell_type": "markdown",
   "id": "83c0af5a",
   "metadata": {},
   "source": [
    "## Регуляризация"
   ]
  },
  {
   "cell_type": "markdown",
   "id": "328d758e",
   "metadata": {},
   "source": [
    "Первым методом борьбы с переобучением, а точнее с \"симптомом\" переобучения, является <b>регуляризация</b>.\n",
    "\n",
    "Вспомним занятия по теории, а точнее теорему Байеса:\n",
    "\n",
    "$$p(\\theta|D)=\\frac{p(D|\\theta)p(\\theta)}{p(D)}.$$\n",
    "\n",
    "В предыдущих размышлениях теорема Байеса не применялась. Мы напрямую максимизировали правдоподобие $p(D|\\theta)$ и получали оценку максимального правдоподобия параметров.\n",
    "\n",
    "Теперь же мы воспользуемся теоремой Байеса для того, чтобы выразить свою интуицию о том, что большие значения коэффициентов это плохо. Для этого определим априорное распределение $p(\\theta)$ параметров модели. Самым простым и распространённым распределением является нормальное распределение.\n",
    "\n",
    "Получим, что $p(\\theta|D)\\propto p(D|\\theta)p(\\theta)$, отсюда $\\ln p(\\theta|D)\\propto \\ln p(D|\\theta) + \\ln p(\\theta) \\rightarrow \\min\\limits_{\\theta}$. Часть $\\ln p(D|\\theta)$ мы уже расписывали, отсюда получается метод наименьших квадратов и минимизация MSE Loss. А часть $\\ln p(\\theta)$ это логарифм нормального распределения: $$\\ln p(\\theta) = Const - \\sum_i\\frac{\\theta_i^2}{2\\sigma_{\\theta}^2} = Const - \\frac{1}{2\\sigma_{\\theta}^2}\\sum_i\\theta_i^2,$$ где $\\sigma_{\\theta}$ - предполагаемое среднеквадратичное отклонение весов. \n",
    "\n",
    "$\\frac{\\sigma^2}{\\sigma_{\\theta}^2}$ обозначают буквой $\\alpha$ и называют коэффициентом регуляризации.\n",
    "\n",
    "Таким образом, функция ошибки примет следующий вид:\n",
    "\n",
    "$$L(X,y,w)=||Xw-y||^2 + \\alpha||w||^2.$$\n",
    "\n",
    "Такую регуляризацию называют L2 - регуляризацией, потому что используется L2 норма вектора $w$. А метод линейной регрессии, использующий такой метод регуляризации называют <i>Гребневой регрессией</i>.\n",
    "\n",
    "Есть и вариант, использующий L1 норму, он называется <i>Лассо регрессией</i>.\n",
    "\n",
    "В sci-kit-learn оба варианта регрессии представлены классами RidgeRegression и LassoRegression"
   ]
  },
  {
   "cell_type": "code",
   "execution_count": null,
   "id": "92041566",
   "metadata": {},
   "outputs": [],
   "source": [
    "from sklearn.exceptions import ConvergenceWarning\n",
    "from sklearn.utils._testing import ignore_warnings\n",
    "# Устанавливаем семя для повторения эксперимента\n",
    "np.random.seed(46)\n",
    "num_samples = 20\n",
    "x_min, x_max = 0, 10\n",
    "x_train = np.random.uniform(x_min, x_max, num_samples)\n",
    "function = lambda x: x + np.cos(x)\n",
    "y_train = function(x_train) + np.random.normal(0, 1, num_samples)\n",
    "# формируем тестовую выборку\n",
    "x_test = np.random.uniform(x_min, x_max, num_samples//2)\n",
    "y_test = function(x_test) + np.random.normal(0, 1, num_samples//2)\n",
    "\n",
    "models = [(create_polynomial_pipeline(4,  LinearRegression(fit_intercept=True)), \"$P_{4}$\"),\n",
    "          (create_polynomial_pipeline(10, LinearRegression(fit_intercept=True)), \"$P_{10}$\"), \n",
    "          (create_polynomial_pipeline(10, Lasso(fit_intercept=True, alpha=0.1)), \"Lasso $P_{10}$\"),\n",
    "          (create_polynomial_pipeline(10, Ridge(fit_intercept=True, alpha=0.1)), \"Ridge $P_{10}$\"),\n",
    "          (create_polynomial_pipeline(4,  Lasso(fit_intercept=True, alpha=0.1)), \"Lasso $P_{4}$\"),\n",
    "          (create_polynomial_pipeline(4,  Ridge(fit_intercept=True, alpha=0.1)), \"Ridge $P_{4}$\"),]\n",
    "\n",
    "with ignore_warnings(category=ConvergenceWarning):\n",
    "    for model, _ in models:\n",
    "        # обучение модели\n",
    "        model.fit(x_train[:,None], y_train[:,None])\n",
    "\n",
    "# отображение\n",
    "x_all = np.linspace(x_min, x_max, 101)\n",
    "plt.plot(x_all, function(x_all), color = \"blue\", label=\"Truth\")\n",
    "for model, label in models:\n",
    "    # обучение модели\n",
    "    plt.plot(x_all, model.predict(x_all[:,None]), label=label)\n",
    "plt.scatter(x_train, y_train, marker=\"*\", color = \"blue\", label=\"Training set\")\n",
    "plt.scatter(x_test, y_test, marker=\"*\", color = \"orange\", label=\"Test set\")\n",
    "plt.ylim(y_train.min() - 1, y_train.max() + 1)\n",
    "plt.legend()\n",
    "\n",
    "print(\"Ошибка на тестовой выборке:\")\n",
    "for model, label in models:\n",
    "    print(f\"{label}: {mean_squared_error(y_test, model.predict(x_test[:,None]))}\")"
   ]
  },
  {
   "cell_type": "markdown",
   "id": "f41da143",
   "metadata": {},
   "source": [
    "Таким образом получается, что полином 10 степени с регуляризацией лучше полинома 4 степени."
   ]
  },
  {
   "cell_type": "code",
   "execution_count": null,
   "id": "c7701a00",
   "metadata": {},
   "outputs": [],
   "source": [
    "print(\"Веса моделей:\")\n",
    "for model, label in models:\n",
    "    print(f\"{label}:\\n {model.steps[1][1].coef_}\")"
   ]
  },
  {
   "cell_type": "markdown",
   "id": "fdfd7a85",
   "metadata": {},
   "source": [
    "Для более сложной зависимости в данных оказывается, что и без регуляризации полином десятой степени - лучше. Связано это именно с тем, что полиномом 4 степени описать такую зависимость невозможно. \n",
    "\n",
    "Заметьте, что регуляризация не всегда делает лучше. В данном примере L1 регуляризация сделала хуже."
   ]
  },
  {
   "cell_type": "code",
   "execution_count": null,
   "id": "ec9370a8",
   "metadata": {},
   "outputs": [],
   "source": [
    "from sklearn.exceptions import ConvergenceWarning\n",
    "from sklearn.utils._testing import ignore_warnings\n",
    "# Устанавливаем семя для повторения эксперимента\n",
    "np.random.seed(46)\n",
    "num_samples = 40\n",
    "x_min, x_max = 0, 20\n",
    "x_train = np.random.uniform(x_min, x_max, num_samples)\n",
    "function = lambda x: x + np.cos(x)\n",
    "y_train = function(x_train) + np.random.normal(0, 1, num_samples)\n",
    "# формируем тестовую выборку\n",
    "x_test = np.random.uniform(x_min, x_max, num_samples//2)\n",
    "y_test = function(x_test) + np.random.normal(0, 1, num_samples//2)\n",
    "\n",
    "models = [(create_polynomial_pipeline(4,  LinearRegression(fit_intercept=True)), \"$P_{4}$\"),\n",
    "          (create_polynomial_pipeline(10, LinearRegression(fit_intercept=True)), \"$P_{10}$\"), \n",
    "          (create_polynomial_pipeline(10, Lasso(fit_intercept=True, alpha=0.1)), \"Lasso $P_{10}$\"),\n",
    "          (create_polynomial_pipeline(10, Ridge(fit_intercept=True, alpha=0.1)), \"Ridge $P_{10}$\"),]\n",
    "\n",
    "with ignore_warnings(category=ConvergenceWarning):\n",
    "    for model, _ in models:\n",
    "        # обучение модели\n",
    "        model.fit(x_train[:,None], y_train[:,None])\n",
    "\n",
    "# отображение\n",
    "x_all = np.linspace(x_min, x_max, 101)\n",
    "plt.plot(x_all, function(x_all), color = \"blue\", label=\"Truth\")\n",
    "for model, label in models:\n",
    "    # обучение модели\n",
    "    plt.plot(x_all, model.predict(x_all[:,None]), label=label)\n",
    "plt.scatter(x_train, y_train, marker=\"*\", color = \"blue\", label=\"Training set\")\n",
    "plt.scatter(x_test, y_test, marker=\"*\", color = \"orange\", label=\"Test set\")\n",
    "plt.ylim(y_train.min() - 1, y_train.max() + 1)\n",
    "plt.legend()\n",
    "\n",
    "print(\"Ошибка на тестовой выборке:\")\n",
    "for model, label in models:\n",
    "    print(f\"{label}: {mean_squared_error(y_test, model.predict(x_test[:,None]))}\")"
   ]
  },
  {
   "cell_type": "code",
   "execution_count": null,
   "id": "a352e253",
   "metadata": {},
   "outputs": [],
   "source": [
    "print(\"Веса моделей:\")\n",
    "for model, label in models:\n",
    "    print(f\"{label}:\\n {model.steps[1][1].coef_}\")"
   ]
  },
  {
   "cell_type": "markdown",
   "id": "1ea785a9",
   "metadata": {},
   "source": [
    "А плохое влияние L1 регуляризации как раз можно увидеть в весах модели. Почти все параметры оказались слишком маленькими и слишком близкими к 0. Регуляризация действует слишком сильно, полином 10 степени превратился в полином 4 степени. Необходимо понизить параметр $\\alpha$, понизить силу регуляризации."
   ]
  },
  {
   "cell_type": "markdown",
   "id": "3c2a548b",
   "metadata": {},
   "source": [
    "А если выборка совсем большая, то регуляризация может оказаться и не нужной."
   ]
  },
  {
   "cell_type": "code",
   "execution_count": null,
   "id": "a926dd97",
   "metadata": {},
   "outputs": [],
   "source": [
    "from sklearn.exceptions import ConvergenceWarning\n",
    "from sklearn.utils._testing import ignore_warnings\n",
    "# Устанавливаем семя для повторения эксперимента\n",
    "np.random.seed(46)\n",
    "num_samples = 40000\n",
    "x_min, x_max = 0, 10\n",
    "x_train = np.random.uniform(x_min, x_max, num_samples)\n",
    "function = lambda x: x + np.cos(x)\n",
    "y_train = function(x_train) + np.random.normal(0, 1, num_samples)\n",
    "# формируем тестовую выборку\n",
    "x_test = np.random.uniform(x_min, x_max, num_samples//2)\n",
    "y_test = function(x_test) + np.random.normal(0, 1, num_samples//2)\n",
    "\n",
    "models = [(create_polynomial_pipeline(4,  LinearRegression(fit_intercept=True)), \"$P_{4}$\"),\n",
    "          (create_polynomial_pipeline(10, LinearRegression(fit_intercept=True)), \"$P_{10}$\"), \n",
    "          (create_polynomial_pipeline(10, Lasso(fit_intercept=True, alpha=0.1)), \"Lasso $P_{10}$\"),\n",
    "          (create_polynomial_pipeline(10, Ridge(fit_intercept=True, alpha=0.1)), \"Ridge $P_{10}$\"),]\n",
    "\n",
    "with ignore_warnings(category=ConvergenceWarning):\n",
    "    for model, _ in models:\n",
    "        # обучение модели\n",
    "        model.fit(x_train[:,None], y_train[:,None])\n",
    "\n",
    "# отображение\n",
    "x_all = np.linspace(x_min, x_max, 101)\n",
    "plt.plot(x_all, function(x_all), color = \"blue\", label=\"Truth\")\n",
    "for model, label in models:\n",
    "    # обучение модели\n",
    "    plt.plot(x_all, model.predict(x_all[:,None]), label=label)\n",
    "plt.scatter(x_train, y_train, marker=\"*\", color = \"blue\", label=\"Training set\")\n",
    "plt.scatter(x_test, y_test, marker=\"*\", color = \"orange\", label=\"Test set\")\n",
    "plt.ylim(y_train.min() - 1, y_train.max() + 1)\n",
    "plt.legend()\n",
    "\n",
    "print(\"Ошибка на тестовой выборке:\")\n",
    "for model, label in models:\n",
    "    print(f\"{label}: {mean_squared_error(y_test, model.predict(x_test[:,None]))}\")"
   ]
  },
  {
   "cell_type": "markdown",
   "id": "07c1f298",
   "metadata": {},
   "source": [
    "Не стоит воспринимать это замечание как гвоздь в крышку гроба регуляризации и проблемы переобучения. Почти всегда в машинном обучении для сбора данных требуется приложить много усилий и, конечно, денег. Поэтому всегда имеющейся выборки оказывается недостаточно: простая модель не может достаточно хорошо описать данные, а сложная модель переобучается. В такие моменты и встаёт острая необходимость борьбы с переобучением."
   ]
  },
  {
   "cell_type": "markdown",
   "id": "d3ff57ef",
   "metadata": {},
   "source": [
    "## Lasso для отбора признаков"
   ]
  },
  {
   "cell_type": "markdown",
   "id": "5b65d920",
   "metadata": {
    "editable": true,
    "slideshow": {
     "slide_type": ""
    },
    "tags": []
   },
   "source": [
    "Чаще всего в машинном обучении используется именно L2 регуляризация. Как вы видели выше, L1 регуляризация более склонна уменьшать качество обученной модели. Но L1 регуляризация может оказаться полезной в <b>задаче отбора признаков</b>. Веса модели для признаков, которые оказывают наименьшее влияние на результат, получат веса, равные 0.\n",
    "\n",
    "Объясняется это следующими соображениями:\n",
    "\n",
    "1. Если в пространстве нарисовать компоненты функции потерь: Среднеквадратичную ошибку и Регуляризацию, то окажется что в точке оптимума линии уровней этих компонент будут касаться. \n",
    "\n",
    "<img style=\"width: 50%; max-width: 960px; display: block; margin: 0 auto;\" src=\"https://yastatic.net/s3/education-portal/media/1_8_bb012dea47_1dd4105626.webp\"/>\n",
    "\n",
    "2. Таким образом, точка оптимума - точка касания эллипса и окружности (в случае L2 регуляризации) и эллипса и \"многомерного ромба\" (в случае L1 регуляризации). В случае касания эллипса и окружности ничего странного не происходит, а вот если искать точку касания эллипса и ромба, то скорее всего точка касания будет находиться в одной из вершин ромба, где одна из координат равна 0.\n",
    "\n",
    "<img style=\"width: 50%; max-width: 960px; display: block; margin: 0 auto;\" src=\"https://yastatic.net/s3/education-portal/media/1_9_c157936d62_f29bca1e43.webp\"/>\n",
    "\n",
    "Таким образом, регрессию с L1 регуляризацией можно применять для того, чтобы найти наименее важные признаки. А после их обнаружения уже надо решить что с ними делать: исключить из модели или как-то преобразовать эти признаки."
   ]
  },
  {
   "cell_type": "markdown",
   "id": "341ecabb",
   "metadata": {},
   "source": [
    "Пример L1 регуляризации для отбора признаков:"
   ]
  },
  {
   "cell_type": "code",
   "execution_count": null,
   "id": "78c537de",
   "metadata": {},
   "outputs": [],
   "source": [
    "w_true = np.array([[10], [20], [0.1]])\n",
    "# обучающая выборка\n",
    "num_samples = 1000\n",
    "x_train = np.random.normal(0, 3, (num_samples, 3))\n",
    "y_train = x_train @ w_true + np.random.normal(0, 2, (num_samples, 1))\n",
    "# тестовая выборка\n",
    "test_samples = 100\n",
    "x_test = np.random.normal(0, 3, (test_samples, 3))\n",
    "y_test = x_test @ w_true + np.random.normal(0, 2, (test_samples, 1))\n",
    "# используемые модели\n",
    "lin_regr = LinearRegression(fit_intercept=True)\n",
    "lasso_regr = Lasso(fit_intercept=True, alpha=10)\n",
    "ridge_regr = Ridge(fit_intercept=True, alpha=10)\n",
    "\n",
    "lin_regr.fit(x_train, y_train)\n",
    "lasso_regr.fit(x_test, y_test)\n",
    "ridge_regr.fit(x_test, y_test)\n",
    "\n",
    "print(f\"Линейная регрессия: {mean_squared_error(y_test, lin_regr.predict(x_test))}\")\n",
    "print(f\"   Lasso регрессия: {mean_squared_error(y_test, lasso_regr.predict(x_test))}\")\n",
    "print(f\"   Ridge регрессия: {mean_squared_error(y_test, ridge_regr.predict(x_test))}\")\n",
    "\n",
    "print(\"Обученные веса:\")\n",
    "print(f\"Истинные веса:      {w_true.ravel()}\")\n",
    "print(f\"Линейная регрессия: {lin_regr.coef_.ravel()}\")\n",
    "print(f\"   Lasso регрессия: {lasso_regr.coef_}\")\n",
    "print(f\"   Ridge регрессия: {ridge_regr.coef_}\")"
   ]
  },
  {
   "cell_type": "markdown",
   "id": "785f1e47",
   "metadata": {},
   "source": [
    "Как мы видим, L1 регуляризация привела к ухудшению качества модели, но помогла исключить мало значимый параметр. Далее мы можем сами исключить этот параметр и обучить регрессию уже без его учёта.\n",
    "\n",
    "А теперь взглянем на случай, где один из весов и вовсе нулевой."
   ]
  },
  {
   "cell_type": "code",
   "execution_count": null,
   "id": "8cb7e0f0",
   "metadata": {},
   "outputs": [],
   "source": [
    "w_true = np.array([[10], [20], [0]])\n",
    "# обучающая выборка\n",
    "num_samples = 1000\n",
    "x_train = np.random.normal(0, 3, (num_samples, 3))\n",
    "y_train = x_train @ w_true + np.random.normal(0, 2, (num_samples, 1))\n",
    "# тестовая выборка\n",
    "test_samples = 100\n",
    "x_test = np.random.normal(0, 3, (test_samples, 3))\n",
    "y_test = x_test @ w_true + np.random.normal(0, 2, (test_samples, 1))\n",
    "# используемые модели\n",
    "lin_regr = LinearRegression(fit_intercept=True)\n",
    "lasso_regr = Lasso(fit_intercept=True, alpha=10)\n",
    "ridge_regr = Ridge(fit_intercept=True, alpha=10)\n",
    "\n",
    "lin_regr.fit(x_train, y_train)\n",
    "lasso_regr.fit(x_test, y_test)\n",
    "ridge_regr.fit(x_test, y_test)\n",
    "\n",
    "print(f\"Линейная регрессия: {mean_squared_error(y_test, lin_regr.predict(x_test))}\")\n",
    "print(f\"   Lasso регрессия: {mean_squared_error(y_test, lasso_regr.predict(x_test))}\")\n",
    "print(f\"   Ridge регрессия: {mean_squared_error(y_test, ridge_regr.predict(x_test))}\")\n",
    "\n",
    "print(\"Обученные веса:\")\n",
    "print(f\"Истинные веса:      {w_true.ravel()}\")\n",
    "print(f\"Линейная регрессия: {lin_regr.coef_.ravel()}\")\n",
    "print(f\"   Lasso регрессия: {lasso_regr.coef_}\")\n",
    "print(f\"   Ridge регрессия: {ridge_regr.coef_}\")"
   ]
  },
  {
   "cell_type": "markdown",
   "id": "39ae2171",
   "metadata": {},
   "source": [
    "В таком случае оказывается, что L1 регуляризация позволяет выделить признак который и вовсе не влияет на ответ.\n",
    "\n",
    "Далее рассмотрим пример, когда один из признаков зависит от другого. В нашем примере $x_3=x_2*b+N(0,0.2)$."
   ]
  },
  {
   "cell_type": "code",
   "execution_count": null,
   "id": "9225f896",
   "metadata": {},
   "outputs": [],
   "source": [
    "w_true = np.array([[10], [20], [10]])\n",
    "# обучающая выборка\n",
    "num_samples = 1000\n",
    "b = 0.5\n",
    "x_train = np.random.normal(0, 3, (num_samples, 2))\n",
    "x_train = np.concatenate([x_train, \n",
    "                          x_train[:,1:2] * b + np.random.normal(0, 0.2, (num_samples, 1))], axis = 1)\n",
    "y_train = x_train @ w_true + np.random.normal(0, 2, (num_samples, 1))\n",
    "# тестовая выборка\n",
    "test_samples = 100\n",
    "x_test = np.random.normal(0, 3, (test_samples, 2))\n",
    "x_test = np.concatenate([x_test, \n",
    "                          x_test[:,1:2] * b + np.random.normal(0, 0.2, (test_samples, 1))], axis = 1)\n",
    "y_test = x_test @ w_true + np.random.normal(0, 2, (test_samples, 1))\n",
    "# используемые модели\n",
    "lin_regr = LinearRegression(fit_intercept=True)\n",
    "lasso_regr = Lasso(fit_intercept=True, alpha=10)\n",
    "ridge_regr = Ridge(fit_intercept=True, alpha=10)\n",
    "\n",
    "lin_regr.fit(x_train, y_train)\n",
    "lasso_regr.fit(x_test, y_test)\n",
    "ridge_regr.fit(x_test, y_test)\n",
    "\n",
    "print(f\"Линейная регрессия: {mean_squared_error(y_test, lin_regr.predict(x_test))}\")\n",
    "print(f\"   Lasso регрессия: {mean_squared_error(y_test, lasso_regr.predict(x_test))}\")\n",
    "print(f\"   Ridge регрессия: {mean_squared_error(y_test, ridge_regr.predict(x_test))}\")\n",
    "\n",
    "print(\"Обученные веса:\")\n",
    "print(f\"Истинные веса:      {w_true.ravel()}\")\n",
    "print(f\"Линейная регрессия: {lin_regr.coef_.ravel()}\")\n",
    "print(f\"   Lasso регрессия: {lasso_regr.coef_}\")\n",
    "print(f\"   Ridge регрессия: {ridge_regr.coef_}\")"
   ]
  },
  {
   "cell_type": "markdown",
   "id": "aa2c3764",
   "metadata": {},
   "source": [
    "И снова L1 регуляризация позволяет справиться с зависимыми признаками и исключить их из модели."
   ]
  },
  {
   "cell_type": "markdown",
   "id": "8d4a106b",
   "metadata": {},
   "source": [
    "## Bridge-регрессия"
   ]
  },
  {
   "cell_type": "markdown",
   "id": "4ec2ee4f",
   "metadata": {},
   "source": [
    "Использование $L_1$ и $L_2$ норм для регуляризации можно обобщить на использование $L_b$ нормы, то есть к функции ошибки можно добавить следующее:\n",
    "\n",
    "$$||w||^b=\\frac{1}{d}\\sum_{i=1}^{d}w_i^b.$$\n",
    "\n",
    "Обобщённую регрессию с $L_b$ регуляризацией называют Bridge регрессией.\n",
    "\n",
    "Если $L_2$ регуляризация уменьшает все веса, а $L_1$ позволяет осуществлять отбор признаков, то $L_b$ регуляризация позволяет:\n",
    "\n",
    "- при $b<1$ усилить эффект отбора признаков;\n",
    "- при $1<b<2$ получить что-то между $L_1$ и $L_2$;\n",
    "- при $2<b$ приблизить регуляризацию к равномерной норме.\n",
    "\n",
    "<img style=\"width: 50%; max-width: 960px; display: block; margin: 0 auto;\" src=\"https://i.postimg.cc/13Gyv3SR/bridge-examples.png\"/>\n",
    "\n",
    "Применяется этот тип регуляризации редко. Настолько редко, что в sci-kit learn нет реализации Bridge-регрессии. "
   ]
  },
  {
   "cell_type": "markdown",
   "id": "c0f9434b",
   "metadata": {},
   "source": [
    "## ElasticNet"
   ]
  },
  {
   "cell_type": "markdown",
   "id": "069399e1",
   "metadata": {},
   "source": [
    "А это метод регуляризации, который реализован в sci-kit learn. Основан он на простой идее комбинации $L_1$ и $L_2$. Регуляризационный член функции ошибки выглядит следующим образом:\n",
    "\n",
    "$$\\alpha\\rho||w||_1 + \\frac{\\alpha(1-\\rho)}{2}||w||_2$$\n",
    "\n",
    "То есть теперь параметров регуляризации уже 2: сила регуляризации $\\alpha$ и соотношение регуляризаций $\\rho$.\n",
    "\n",
    "Пример единичной окружности с $\\rho=[0, 0.25, 0.5, 0.75, 1]$\n",
    "\n",
    "<img style=\"width: 30%; max-width: 960px; display: block; margin: 0 auto;\" src=\"https://i.postimg.cc/VLwjD1Jf/elastic-example.png\"/>"
   ]
  },
  {
   "cell_type": "markdown",
   "id": "325dc7bc",
   "metadata": {},
   "source": [
    "# Домашнее задание\n",
    "\n",
    "- В наборе данных `hw_2_polynomial_data.csv` записаны значения функции от трёх аргументов. На функцию наложен нормальный шум. Известно, что функция имеет некоторую полиномиальную зависимость от аргументов. Найдите эту зависимость. Укажите какие комбинации переменных с какими степенями составляют зависимость. Результат аргументируйте.\n",
    "\n",
    "- Выберите несложную нелинейную зависимость. Пример: $x+sin(x)$, но её мы уже подробно рассматривали на паре, выберите что-нибудь поинтереснее. Сгенерируйте тренировочную выборку из 10 точек и тестовую из 500 точек. Добавьте к получаемым точкам шум. Обучите на имеющихся точках линейную регрессию, лассо-регрессию, гребневую регрессию, примените полиномиальные признаки. Нарисуйте на графиках зависимость ошибки на тестовом множестве от коэффициента регуляризации. Как этот график выглядит? Объясните полученные результаты. Нарисуйте зависимость коэффициентов регрессии от коэффициента регуляризации. Как выглядят эти графики?\n",
    "\n",
    "- В наборе данных `hw_2_strange_data.csv` содержатся некоторые данные. Обучите на этих данных линейную регрессию. Что с этими данными не так?"
   ]
  }
 ],
 "metadata": {
  "kernelspec": {
   "display_name": "Python 3 (ipykernel)",
   "language": "python",
   "name": "python3"
  },
  "language_info": {
   "codemirror_mode": {
    "name": "ipython",
    "version": 3
   },
   "file_extension": ".py",
   "mimetype": "text/x-python",
   "name": "python",
   "nbconvert_exporter": "python",
   "pygments_lexer": "ipython3",
   "version": "3.10.4"
  }
 },
 "nbformat": 4,
 "nbformat_minor": 5
}
